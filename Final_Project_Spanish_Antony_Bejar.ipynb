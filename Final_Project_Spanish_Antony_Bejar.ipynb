{
  "cells": [
    {
      "cell_type": "markdown",
      "id": "18e1c76e",
      "metadata": {
        "id": "18e1c76e"
      },
      "source": [
        "<center><h1>Proyecto final</h1></center>\n",
        "<center><h3>IBM SkillsBuild Europa - Análisis de datos</h3></center>"
      ]
    },
    {
      "cell_type": "markdown",
      "id": "ccdda504",
      "metadata": {
        "id": "ccdda504"
      },
      "source": [
        "# Requisitos\n",
        "\n",
        "\n",
        "\n",
        "* Conocimientos de Python, Power BI o Tableau.\n",
        "* Comprensión de la limpieza de datos.\n",
        "* Comprensión de la visualización de datos.\n",
        "\n",
        "\n",
        "\n",
        "#### Nivel de ejercicio: Intermedio\n",
        "\n",
        "\n",
        "\n",
        "#### Duración: aproximadamente 3 horas\n"
      ]
    },
    {
      "cell_type": "markdown",
      "id": "1dd097a8",
      "metadata": {
        "id": "1dd097a8"
      },
      "source": [
        "### Análisis de datos de Airbnb:\n",
        "\n",
        "\n",
        "\n",
        "#### Objetivo:\n",
        "\n",
        "\n",
        "\n",
        "En este ejercicio, practicarás el análisis de datos sobre un conjunto de datos abiertos procedentes de Airbnb. Algunas de las tareas incluyen:\n",
        "\n",
        "- limpieza de datos,\n",
        "- transformación de datos y\n",
        "- visualización de datos.\n",
        "\n",
        "\n",
        "\n",
        "#### Resumen sobre los datos de Airbnb:\n",
        "\n",
        "\n",
        "\n",
        "Los criterios principales de la gente cuando visita lugares nuevos son contar con alojamiento y comida a precios razonables. Airbnb (Air-Bed-Breakfast) es un mercado en línea creado para satisfacer esta necesidad, pues permite a la gente alquilar sus casas durante plazos cortos. Estos servicios se ofrecen a un precio relativamente inferior al de los hoteles y en diversas ubicaciones geográficas. Además, personas de todo el mundo prefieren el servicio hogareño y económico.\n",
        "\n",
        "\n",
        "\n",
        "#### Fuente de los datos\n",
        "\n",
        "\n",
        "\n",
        "Puedes obtener el <i>dataset</i> para realizar este proyecto en el siguiente enlace: https://www.kaggle.com/datasets/arianazmoudeh/airbnbopendata\n",
        "\n",
        "\n",
        "\n",
        "Este <i>dataset</i> contiene información sobre los alojamientos, tal como el barrio, el tipo de habitación, el precio, la disponibilidad, las opiniones, los gastos de servicio, la política de cancelación y las normas de uso de la casa.\n",
        "\n",
        "\n",
        "\n",
        "¡Te deseamos lo mejor en tu análisis de los datos de Airbnb!"
      ]
    },
    {
      "cell_type": "markdown",
      "metadata": {},
      "source": [
        "\n",
        "1. [Primer apartado](#id1)\n",
        "2. [Segundo apartado](#id2)\n",
        "3. [tarea 3](#id3)\n"
      ]
    },
    {
      "cell_type": "markdown",
      "id": "87iYmshDK853",
      "metadata": {
        "id": "87iYmshDK853"
      },
      "source": [
        "<div id='id1' />\n",
        "\n",
        "## Tarea 1: Carga de datos (Python)"
      ]
    },
    {
      "cell_type": "markdown",
      "metadata": {},
      "source": [
        "<span style=\"color:Lightgreen\">1. Lee el fichero csv y cárgarlo en un <i>dataframe</i> de pandas.</span>  "
      ]
    },
    {
      "cell_type": "code",
      "execution_count": 1,
      "metadata": {},
      "outputs": [
        {
          "data": {
            "text/plain": [
              "['Airbnb_Open_Data.csv',\n",
              " 'archive (1).zip',\n",
              " 'Final_Project_Spanish.ipynb',\n",
              " 'Final_Project_Spanish_Antony_Bejar.ipynb',\n",
              " 'Libro2.twb']"
            ]
          },
          "execution_count": 1,
          "metadata": {},
          "output_type": "execute_result"
        }
      ],
      "source": [
        "# Importamos el módulo os, que proporciona funciones para interactuar con el sistema operativo\n",
        "# Asignamos la función os.getcwd() a una variable, que devuelve el directorio de trabajo actual (current working directory, CWD)\n",
        "# Listar Archivos encontrados en el directorio de trabajo\n",
        "\n",
        "import os\n",
        "dir = os.getcwd()\n",
        "dir\n",
        "os.listdir(dir)"
      ]
    },
    {
      "cell_type": "code",
      "execution_count": 2,
      "metadata": {},
      "outputs": [
        {
          "name": "stderr",
          "output_type": "stream",
          "text": [
            "C:\\Users\\Yeyson\\AppData\\Local\\Temp\\ipykernel_9432\\1766898419.py:3: DtypeWarning: Columns (25) have mixed types. Specify dtype option on import or set low_memory=False.\n",
            "  airbnb = pd.read_csv('Airbnb_Open_Data.csv')\n"
          ]
        },
        {
          "data": {
            "text/html": [
              "<div>\n",
              "<style scoped>\n",
              "    .dataframe tbody tr th:only-of-type {\n",
              "        vertical-align: middle;\n",
              "    }\n",
              "\n",
              "    .dataframe tbody tr th {\n",
              "        vertical-align: top;\n",
              "    }\n",
              "\n",
              "    .dataframe thead th {\n",
              "        text-align: right;\n",
              "    }\n",
              "</style>\n",
              "<table border=\"1\" class=\"dataframe\">\n",
              "  <thead>\n",
              "    <tr style=\"text-align: right;\">\n",
              "      <th></th>\n",
              "      <th>id</th>\n",
              "      <th>NAME</th>\n",
              "      <th>host id</th>\n",
              "      <th>host_identity_verified</th>\n",
              "      <th>host name</th>\n",
              "      <th>neighbourhood group</th>\n",
              "      <th>neighbourhood</th>\n",
              "      <th>lat</th>\n",
              "      <th>long</th>\n",
              "      <th>country</th>\n",
              "      <th>...</th>\n",
              "      <th>service fee</th>\n",
              "      <th>minimum nights</th>\n",
              "      <th>number of reviews</th>\n",
              "      <th>last review</th>\n",
              "      <th>reviews per month</th>\n",
              "      <th>review rate number</th>\n",
              "      <th>calculated host listings count</th>\n",
              "      <th>availability 365</th>\n",
              "      <th>house_rules</th>\n",
              "      <th>license</th>\n",
              "    </tr>\n",
              "  </thead>\n",
              "  <tbody>\n",
              "    <tr>\n",
              "      <th>0</th>\n",
              "      <td>1001254</td>\n",
              "      <td>Clean &amp; quiet apt home by the park</td>\n",
              "      <td>80014485718</td>\n",
              "      <td>unconfirmed</td>\n",
              "      <td>Madaline</td>\n",
              "      <td>Brooklyn</td>\n",
              "      <td>Kensington</td>\n",
              "      <td>40.64749</td>\n",
              "      <td>-73.97237</td>\n",
              "      <td>United States</td>\n",
              "      <td>...</td>\n",
              "      <td>$193</td>\n",
              "      <td>10.0</td>\n",
              "      <td>9.0</td>\n",
              "      <td>10/19/2021</td>\n",
              "      <td>0.21</td>\n",
              "      <td>4.0</td>\n",
              "      <td>6.0</td>\n",
              "      <td>286.0</td>\n",
              "      <td>Clean up and treat the home the way you'd like...</td>\n",
              "      <td>NaN</td>\n",
              "    </tr>\n",
              "    <tr>\n",
              "      <th>1</th>\n",
              "      <td>1002102</td>\n",
              "      <td>Skylit Midtown Castle</td>\n",
              "      <td>52335172823</td>\n",
              "      <td>verified</td>\n",
              "      <td>Jenna</td>\n",
              "      <td>Manhattan</td>\n",
              "      <td>Midtown</td>\n",
              "      <td>40.75362</td>\n",
              "      <td>-73.98377</td>\n",
              "      <td>United States</td>\n",
              "      <td>...</td>\n",
              "      <td>$28</td>\n",
              "      <td>30.0</td>\n",
              "      <td>45.0</td>\n",
              "      <td>5/21/2022</td>\n",
              "      <td>0.38</td>\n",
              "      <td>4.0</td>\n",
              "      <td>2.0</td>\n",
              "      <td>228.0</td>\n",
              "      <td>Pet friendly but please confirm with me if the...</td>\n",
              "      <td>NaN</td>\n",
              "    </tr>\n",
              "    <tr>\n",
              "      <th>2</th>\n",
              "      <td>1002403</td>\n",
              "      <td>THE VILLAGE OF HARLEM....NEW YORK !</td>\n",
              "      <td>78829239556</td>\n",
              "      <td>NaN</td>\n",
              "      <td>Elise</td>\n",
              "      <td>Manhattan</td>\n",
              "      <td>Harlem</td>\n",
              "      <td>40.80902</td>\n",
              "      <td>-73.94190</td>\n",
              "      <td>United States</td>\n",
              "      <td>...</td>\n",
              "      <td>$124</td>\n",
              "      <td>3.0</td>\n",
              "      <td>0.0</td>\n",
              "      <td>NaN</td>\n",
              "      <td>NaN</td>\n",
              "      <td>5.0</td>\n",
              "      <td>1.0</td>\n",
              "      <td>352.0</td>\n",
              "      <td>I encourage you to use my kitchen, cooking and...</td>\n",
              "      <td>NaN</td>\n",
              "    </tr>\n",
              "    <tr>\n",
              "      <th>3</th>\n",
              "      <td>1002755</td>\n",
              "      <td>NaN</td>\n",
              "      <td>85098326012</td>\n",
              "      <td>unconfirmed</td>\n",
              "      <td>Garry</td>\n",
              "      <td>Brooklyn</td>\n",
              "      <td>Clinton Hill</td>\n",
              "      <td>40.68514</td>\n",
              "      <td>-73.95976</td>\n",
              "      <td>United States</td>\n",
              "      <td>...</td>\n",
              "      <td>$74</td>\n",
              "      <td>30.0</td>\n",
              "      <td>270.0</td>\n",
              "      <td>7/5/2019</td>\n",
              "      <td>4.64</td>\n",
              "      <td>4.0</td>\n",
              "      <td>1.0</td>\n",
              "      <td>322.0</td>\n",
              "      <td>NaN</td>\n",
              "      <td>NaN</td>\n",
              "    </tr>\n",
              "    <tr>\n",
              "      <th>4</th>\n",
              "      <td>1003689</td>\n",
              "      <td>Entire Apt: Spacious Studio/Loft by central park</td>\n",
              "      <td>92037596077</td>\n",
              "      <td>verified</td>\n",
              "      <td>Lyndon</td>\n",
              "      <td>Manhattan</td>\n",
              "      <td>East Harlem</td>\n",
              "      <td>40.79851</td>\n",
              "      <td>-73.94399</td>\n",
              "      <td>United States</td>\n",
              "      <td>...</td>\n",
              "      <td>$41</td>\n",
              "      <td>10.0</td>\n",
              "      <td>9.0</td>\n",
              "      <td>11/19/2018</td>\n",
              "      <td>0.10</td>\n",
              "      <td>3.0</td>\n",
              "      <td>1.0</td>\n",
              "      <td>289.0</td>\n",
              "      <td>Please no smoking in the house, porch or on th...</td>\n",
              "      <td>NaN</td>\n",
              "    </tr>\n",
              "    <tr>\n",
              "      <th>...</th>\n",
              "      <td>...</td>\n",
              "      <td>...</td>\n",
              "      <td>...</td>\n",
              "      <td>...</td>\n",
              "      <td>...</td>\n",
              "      <td>...</td>\n",
              "      <td>...</td>\n",
              "      <td>...</td>\n",
              "      <td>...</td>\n",
              "      <td>...</td>\n",
              "      <td>...</td>\n",
              "      <td>...</td>\n",
              "      <td>...</td>\n",
              "      <td>...</td>\n",
              "      <td>...</td>\n",
              "      <td>...</td>\n",
              "      <td>...</td>\n",
              "      <td>...</td>\n",
              "      <td>...</td>\n",
              "      <td>...</td>\n",
              "      <td>...</td>\n",
              "    </tr>\n",
              "    <tr>\n",
              "      <th>102594</th>\n",
              "      <td>6092437</td>\n",
              "      <td>Spare room in Williamsburg</td>\n",
              "      <td>12312296767</td>\n",
              "      <td>verified</td>\n",
              "      <td>Krik</td>\n",
              "      <td>Brooklyn</td>\n",
              "      <td>Williamsburg</td>\n",
              "      <td>40.70862</td>\n",
              "      <td>-73.94651</td>\n",
              "      <td>United States</td>\n",
              "      <td>...</td>\n",
              "      <td>$169</td>\n",
              "      <td>1.0</td>\n",
              "      <td>0.0</td>\n",
              "      <td>NaN</td>\n",
              "      <td>NaN</td>\n",
              "      <td>3.0</td>\n",
              "      <td>1.0</td>\n",
              "      <td>227.0</td>\n",
              "      <td>No Smoking No Parties or Events of any kind Pl...</td>\n",
              "      <td>NaN</td>\n",
              "    </tr>\n",
              "    <tr>\n",
              "      <th>102595</th>\n",
              "      <td>6092990</td>\n",
              "      <td>Best Location near Columbia U</td>\n",
              "      <td>77864383453</td>\n",
              "      <td>unconfirmed</td>\n",
              "      <td>Mifan</td>\n",
              "      <td>Manhattan</td>\n",
              "      <td>Morningside Heights</td>\n",
              "      <td>40.80460</td>\n",
              "      <td>-73.96545</td>\n",
              "      <td>United States</td>\n",
              "      <td>...</td>\n",
              "      <td>$167</td>\n",
              "      <td>1.0</td>\n",
              "      <td>1.0</td>\n",
              "      <td>7/6/2015</td>\n",
              "      <td>0.02</td>\n",
              "      <td>2.0</td>\n",
              "      <td>2.0</td>\n",
              "      <td>395.0</td>\n",
              "      <td>House rules: Guests agree to the following ter...</td>\n",
              "      <td>NaN</td>\n",
              "    </tr>\n",
              "    <tr>\n",
              "      <th>102596</th>\n",
              "      <td>6093542</td>\n",
              "      <td>Comfy, bright room in Brooklyn</td>\n",
              "      <td>69050334417</td>\n",
              "      <td>unconfirmed</td>\n",
              "      <td>Megan</td>\n",
              "      <td>Brooklyn</td>\n",
              "      <td>Park Slope</td>\n",
              "      <td>40.67505</td>\n",
              "      <td>-73.98045</td>\n",
              "      <td>United States</td>\n",
              "      <td>...</td>\n",
              "      <td>$198</td>\n",
              "      <td>3.0</td>\n",
              "      <td>0.0</td>\n",
              "      <td>NaN</td>\n",
              "      <td>NaN</td>\n",
              "      <td>5.0</td>\n",
              "      <td>1.0</td>\n",
              "      <td>342.0</td>\n",
              "      <td>NaN</td>\n",
              "      <td>NaN</td>\n",
              "    </tr>\n",
              "    <tr>\n",
              "      <th>102597</th>\n",
              "      <td>6094094</td>\n",
              "      <td>Big Studio-One Stop from Midtown</td>\n",
              "      <td>11160591270</td>\n",
              "      <td>unconfirmed</td>\n",
              "      <td>Christopher</td>\n",
              "      <td>Queens</td>\n",
              "      <td>Long Island City</td>\n",
              "      <td>40.74989</td>\n",
              "      <td>-73.93777</td>\n",
              "      <td>United States</td>\n",
              "      <td>...</td>\n",
              "      <td>$109</td>\n",
              "      <td>2.0</td>\n",
              "      <td>5.0</td>\n",
              "      <td>10/11/2015</td>\n",
              "      <td>0.10</td>\n",
              "      <td>3.0</td>\n",
              "      <td>1.0</td>\n",
              "      <td>386.0</td>\n",
              "      <td>NaN</td>\n",
              "      <td>NaN</td>\n",
              "    </tr>\n",
              "    <tr>\n",
              "      <th>102598</th>\n",
              "      <td>6094647</td>\n",
              "      <td>585 sf Luxury Studio</td>\n",
              "      <td>68170633372</td>\n",
              "      <td>unconfirmed</td>\n",
              "      <td>Rebecca</td>\n",
              "      <td>Manhattan</td>\n",
              "      <td>Upper West Side</td>\n",
              "      <td>40.76807</td>\n",
              "      <td>-73.98342</td>\n",
              "      <td>United States</td>\n",
              "      <td>...</td>\n",
              "      <td>$206</td>\n",
              "      <td>1.0</td>\n",
              "      <td>0.0</td>\n",
              "      <td>NaN</td>\n",
              "      <td>NaN</td>\n",
              "      <td>3.0</td>\n",
              "      <td>1.0</td>\n",
              "      <td>69.0</td>\n",
              "      <td>NaN</td>\n",
              "      <td>NaN</td>\n",
              "    </tr>\n",
              "  </tbody>\n",
              "</table>\n",
              "<p>102599 rows × 26 columns</p>\n",
              "</div>"
            ],
            "text/plain": [
              "             id                                              NAME  \\\n",
              "0       1001254                Clean & quiet apt home by the park   \n",
              "1       1002102                             Skylit Midtown Castle   \n",
              "2       1002403               THE VILLAGE OF HARLEM....NEW YORK !   \n",
              "3       1002755                                               NaN   \n",
              "4       1003689  Entire Apt: Spacious Studio/Loft by central park   \n",
              "...         ...                                               ...   \n",
              "102594  6092437                        Spare room in Williamsburg   \n",
              "102595  6092990                     Best Location near Columbia U   \n",
              "102596  6093542                    Comfy, bright room in Brooklyn   \n",
              "102597  6094094                  Big Studio-One Stop from Midtown   \n",
              "102598  6094647                              585 sf Luxury Studio   \n",
              "\n",
              "            host id host_identity_verified    host name neighbourhood group  \\\n",
              "0       80014485718            unconfirmed     Madaline            Brooklyn   \n",
              "1       52335172823               verified        Jenna           Manhattan   \n",
              "2       78829239556                    NaN        Elise           Manhattan   \n",
              "3       85098326012            unconfirmed        Garry            Brooklyn   \n",
              "4       92037596077               verified       Lyndon           Manhattan   \n",
              "...             ...                    ...          ...                 ...   \n",
              "102594  12312296767               verified         Krik            Brooklyn   \n",
              "102595  77864383453            unconfirmed        Mifan           Manhattan   \n",
              "102596  69050334417            unconfirmed        Megan            Brooklyn   \n",
              "102597  11160591270            unconfirmed  Christopher              Queens   \n",
              "102598  68170633372            unconfirmed      Rebecca           Manhattan   \n",
              "\n",
              "              neighbourhood       lat      long        country  ...  \\\n",
              "0                Kensington  40.64749 -73.97237  United States  ...   \n",
              "1                   Midtown  40.75362 -73.98377  United States  ...   \n",
              "2                    Harlem  40.80902 -73.94190  United States  ...   \n",
              "3              Clinton Hill  40.68514 -73.95976  United States  ...   \n",
              "4               East Harlem  40.79851 -73.94399  United States  ...   \n",
              "...                     ...       ...       ...            ...  ...   \n",
              "102594         Williamsburg  40.70862 -73.94651  United States  ...   \n",
              "102595  Morningside Heights  40.80460 -73.96545  United States  ...   \n",
              "102596           Park Slope  40.67505 -73.98045  United States  ...   \n",
              "102597     Long Island City  40.74989 -73.93777  United States  ...   \n",
              "102598      Upper West Side  40.76807 -73.98342  United States  ...   \n",
              "\n",
              "       service fee minimum nights number of reviews last review  \\\n",
              "0            $193            10.0               9.0  10/19/2021   \n",
              "1             $28            30.0              45.0   5/21/2022   \n",
              "2            $124             3.0               0.0         NaN   \n",
              "3             $74            30.0             270.0    7/5/2019   \n",
              "4             $41            10.0               9.0  11/19/2018   \n",
              "...            ...            ...               ...         ...   \n",
              "102594       $169             1.0               0.0         NaN   \n",
              "102595       $167             1.0               1.0    7/6/2015   \n",
              "102596       $198             3.0               0.0         NaN   \n",
              "102597       $109             2.0               5.0  10/11/2015   \n",
              "102598       $206             1.0               0.0         NaN   \n",
              "\n",
              "        reviews per month review rate number calculated host listings count  \\\n",
              "0                    0.21                4.0                            6.0   \n",
              "1                    0.38                4.0                            2.0   \n",
              "2                     NaN                5.0                            1.0   \n",
              "3                    4.64                4.0                            1.0   \n",
              "4                    0.10                3.0                            1.0   \n",
              "...                   ...                ...                            ...   \n",
              "102594                NaN                3.0                            1.0   \n",
              "102595               0.02                2.0                            2.0   \n",
              "102596                NaN                5.0                            1.0   \n",
              "102597               0.10                3.0                            1.0   \n",
              "102598                NaN                3.0                            1.0   \n",
              "\n",
              "        availability 365                                        house_rules  \\\n",
              "0                  286.0  Clean up and treat the home the way you'd like...   \n",
              "1                  228.0  Pet friendly but please confirm with me if the...   \n",
              "2                  352.0  I encourage you to use my kitchen, cooking and...   \n",
              "3                  322.0                                                NaN   \n",
              "4                  289.0  Please no smoking in the house, porch or on th...   \n",
              "...                  ...                                                ...   \n",
              "102594             227.0  No Smoking No Parties or Events of any kind Pl...   \n",
              "102595             395.0  House rules: Guests agree to the following ter...   \n",
              "102596             342.0                                                NaN   \n",
              "102597             386.0                                                NaN   \n",
              "102598              69.0                                                NaN   \n",
              "\n",
              "       license  \n",
              "0          NaN  \n",
              "1          NaN  \n",
              "2          NaN  \n",
              "3          NaN  \n",
              "4          NaN  \n",
              "...        ...  \n",
              "102594     NaN  \n",
              "102595     NaN  \n",
              "102596     NaN  \n",
              "102597     NaN  \n",
              "102598     NaN  \n",
              "\n",
              "[102599 rows x 26 columns]"
            ]
          },
          "execution_count": 2,
          "metadata": {},
          "output_type": "execute_result"
        }
      ],
      "source": [
        "# Importamos pandas y guardamos en una variable el archivo csv\n",
        "import pandas as pd\n",
        "airbnb = pd.read_csv('Airbnb_Open_Data.csv')\n",
        "airbnb"
      ]
    },
    {
      "cell_type": "markdown",
      "metadata": {},
      "source": [
        "<span style=\"color:Lightgreen\">2. Visualiza las cinco primeras filas de tu <i>dataframe</i>.</span>"
      ]
    },
    {
      "cell_type": "code",
      "execution_count": 3,
      "id": "RWEtAhDbK858",
      "metadata": {
        "id": "RWEtAhDbK858"
      },
      "outputs": [
        {
          "data": {
            "text/html": [
              "<div>\n",
              "<style scoped>\n",
              "    .dataframe tbody tr th:only-of-type {\n",
              "        vertical-align: middle;\n",
              "    }\n",
              "\n",
              "    .dataframe tbody tr th {\n",
              "        vertical-align: top;\n",
              "    }\n",
              "\n",
              "    .dataframe thead th {\n",
              "        text-align: right;\n",
              "    }\n",
              "</style>\n",
              "<table border=\"1\" class=\"dataframe\">\n",
              "  <thead>\n",
              "    <tr style=\"text-align: right;\">\n",
              "      <th></th>\n",
              "      <th>id</th>\n",
              "      <th>NAME</th>\n",
              "      <th>host id</th>\n",
              "      <th>host_identity_verified</th>\n",
              "      <th>host name</th>\n",
              "      <th>neighbourhood group</th>\n",
              "      <th>neighbourhood</th>\n",
              "      <th>lat</th>\n",
              "      <th>long</th>\n",
              "      <th>country</th>\n",
              "      <th>...</th>\n",
              "      <th>service fee</th>\n",
              "      <th>minimum nights</th>\n",
              "      <th>number of reviews</th>\n",
              "      <th>last review</th>\n",
              "      <th>reviews per month</th>\n",
              "      <th>review rate number</th>\n",
              "      <th>calculated host listings count</th>\n",
              "      <th>availability 365</th>\n",
              "      <th>house_rules</th>\n",
              "      <th>license</th>\n",
              "    </tr>\n",
              "  </thead>\n",
              "  <tbody>\n",
              "    <tr>\n",
              "      <th>0</th>\n",
              "      <td>1001254</td>\n",
              "      <td>Clean &amp; quiet apt home by the park</td>\n",
              "      <td>80014485718</td>\n",
              "      <td>unconfirmed</td>\n",
              "      <td>Madaline</td>\n",
              "      <td>Brooklyn</td>\n",
              "      <td>Kensington</td>\n",
              "      <td>40.64749</td>\n",
              "      <td>-73.97237</td>\n",
              "      <td>United States</td>\n",
              "      <td>...</td>\n",
              "      <td>$193</td>\n",
              "      <td>10.0</td>\n",
              "      <td>9.0</td>\n",
              "      <td>10/19/2021</td>\n",
              "      <td>0.21</td>\n",
              "      <td>4.0</td>\n",
              "      <td>6.0</td>\n",
              "      <td>286.0</td>\n",
              "      <td>Clean up and treat the home the way you'd like...</td>\n",
              "      <td>NaN</td>\n",
              "    </tr>\n",
              "    <tr>\n",
              "      <th>1</th>\n",
              "      <td>1002102</td>\n",
              "      <td>Skylit Midtown Castle</td>\n",
              "      <td>52335172823</td>\n",
              "      <td>verified</td>\n",
              "      <td>Jenna</td>\n",
              "      <td>Manhattan</td>\n",
              "      <td>Midtown</td>\n",
              "      <td>40.75362</td>\n",
              "      <td>-73.98377</td>\n",
              "      <td>United States</td>\n",
              "      <td>...</td>\n",
              "      <td>$28</td>\n",
              "      <td>30.0</td>\n",
              "      <td>45.0</td>\n",
              "      <td>5/21/2022</td>\n",
              "      <td>0.38</td>\n",
              "      <td>4.0</td>\n",
              "      <td>2.0</td>\n",
              "      <td>228.0</td>\n",
              "      <td>Pet friendly but please confirm with me if the...</td>\n",
              "      <td>NaN</td>\n",
              "    </tr>\n",
              "    <tr>\n",
              "      <th>2</th>\n",
              "      <td>1002403</td>\n",
              "      <td>THE VILLAGE OF HARLEM....NEW YORK !</td>\n",
              "      <td>78829239556</td>\n",
              "      <td>NaN</td>\n",
              "      <td>Elise</td>\n",
              "      <td>Manhattan</td>\n",
              "      <td>Harlem</td>\n",
              "      <td>40.80902</td>\n",
              "      <td>-73.94190</td>\n",
              "      <td>United States</td>\n",
              "      <td>...</td>\n",
              "      <td>$124</td>\n",
              "      <td>3.0</td>\n",
              "      <td>0.0</td>\n",
              "      <td>NaN</td>\n",
              "      <td>NaN</td>\n",
              "      <td>5.0</td>\n",
              "      <td>1.0</td>\n",
              "      <td>352.0</td>\n",
              "      <td>I encourage you to use my kitchen, cooking and...</td>\n",
              "      <td>NaN</td>\n",
              "    </tr>\n",
              "    <tr>\n",
              "      <th>3</th>\n",
              "      <td>1002755</td>\n",
              "      <td>NaN</td>\n",
              "      <td>85098326012</td>\n",
              "      <td>unconfirmed</td>\n",
              "      <td>Garry</td>\n",
              "      <td>Brooklyn</td>\n",
              "      <td>Clinton Hill</td>\n",
              "      <td>40.68514</td>\n",
              "      <td>-73.95976</td>\n",
              "      <td>United States</td>\n",
              "      <td>...</td>\n",
              "      <td>$74</td>\n",
              "      <td>30.0</td>\n",
              "      <td>270.0</td>\n",
              "      <td>7/5/2019</td>\n",
              "      <td>4.64</td>\n",
              "      <td>4.0</td>\n",
              "      <td>1.0</td>\n",
              "      <td>322.0</td>\n",
              "      <td>NaN</td>\n",
              "      <td>NaN</td>\n",
              "    </tr>\n",
              "    <tr>\n",
              "      <th>4</th>\n",
              "      <td>1003689</td>\n",
              "      <td>Entire Apt: Spacious Studio/Loft by central park</td>\n",
              "      <td>92037596077</td>\n",
              "      <td>verified</td>\n",
              "      <td>Lyndon</td>\n",
              "      <td>Manhattan</td>\n",
              "      <td>East Harlem</td>\n",
              "      <td>40.79851</td>\n",
              "      <td>-73.94399</td>\n",
              "      <td>United States</td>\n",
              "      <td>...</td>\n",
              "      <td>$41</td>\n",
              "      <td>10.0</td>\n",
              "      <td>9.0</td>\n",
              "      <td>11/19/2018</td>\n",
              "      <td>0.10</td>\n",
              "      <td>3.0</td>\n",
              "      <td>1.0</td>\n",
              "      <td>289.0</td>\n",
              "      <td>Please no smoking in the house, porch or on th...</td>\n",
              "      <td>NaN</td>\n",
              "    </tr>\n",
              "  </tbody>\n",
              "</table>\n",
              "<p>5 rows × 26 columns</p>\n",
              "</div>"
            ],
            "text/plain": [
              "        id                                              NAME      host id  \\\n",
              "0  1001254                Clean & quiet apt home by the park  80014485718   \n",
              "1  1002102                             Skylit Midtown Castle  52335172823   \n",
              "2  1002403               THE VILLAGE OF HARLEM....NEW YORK !  78829239556   \n",
              "3  1002755                                               NaN  85098326012   \n",
              "4  1003689  Entire Apt: Spacious Studio/Loft by central park  92037596077   \n",
              "\n",
              "  host_identity_verified host name neighbourhood group neighbourhood  \\\n",
              "0            unconfirmed  Madaline            Brooklyn    Kensington   \n",
              "1               verified     Jenna           Manhattan       Midtown   \n",
              "2                    NaN     Elise           Manhattan        Harlem   \n",
              "3            unconfirmed     Garry            Brooklyn  Clinton Hill   \n",
              "4               verified    Lyndon           Manhattan   East Harlem   \n",
              "\n",
              "        lat      long        country  ... service fee minimum nights  \\\n",
              "0  40.64749 -73.97237  United States  ...       $193            10.0   \n",
              "1  40.75362 -73.98377  United States  ...        $28            30.0   \n",
              "2  40.80902 -73.94190  United States  ...       $124             3.0   \n",
              "3  40.68514 -73.95976  United States  ...        $74            30.0   \n",
              "4  40.79851 -73.94399  United States  ...        $41            10.0   \n",
              "\n",
              "  number of reviews last review  reviews per month review rate number  \\\n",
              "0               9.0  10/19/2021               0.21                4.0   \n",
              "1              45.0   5/21/2022               0.38                4.0   \n",
              "2               0.0         NaN                NaN                5.0   \n",
              "3             270.0    7/5/2019               4.64                4.0   \n",
              "4               9.0  11/19/2018               0.10                3.0   \n",
              "\n",
              "  calculated host listings count  availability 365  \\\n",
              "0                            6.0             286.0   \n",
              "1                            2.0             228.0   \n",
              "2                            1.0             352.0   \n",
              "3                            1.0             322.0   \n",
              "4                            1.0             289.0   \n",
              "\n",
              "                                         house_rules license  \n",
              "0  Clean up and treat the home the way you'd like...     NaN  \n",
              "1  Pet friendly but please confirm with me if the...     NaN  \n",
              "2  I encourage you to use my kitchen, cooking and...     NaN  \n",
              "3                                                NaN     NaN  \n",
              "4  Please no smoking in the house, porch or on th...     NaN  \n",
              "\n",
              "[5 rows x 26 columns]"
            ]
          },
          "execution_count": 3,
          "metadata": {},
          "output_type": "execute_result"
        }
      ],
      "source": [
        "airbnb.head()"
      ]
    },
    {
      "cell_type": "markdown",
      "metadata": {},
      "source": [
        "<span style=\"color:Lightgreen\">3. Visualize los tipos de datos de las columnas.</span>"
      ]
    },
    {
      "cell_type": "code",
      "execution_count": 4,
      "id": "WuceSXM-K859",
      "metadata": {
        "id": "WuceSXM-K859"
      },
      "outputs": [
        {
          "name": "stdout",
          "output_type": "stream",
          "text": [
            "<class 'pandas.core.frame.DataFrame'>\n",
            "RangeIndex: 102599 entries, 0 to 102598\n",
            "Data columns (total 26 columns):\n",
            " #   Column                          Non-Null Count   Dtype  \n",
            "---  ------                          --------------   -----  \n",
            " 0   id                              102599 non-null  int64  \n",
            " 1   NAME                            102349 non-null  object \n",
            " 2   host id                         102599 non-null  int64  \n",
            " 3   host_identity_verified          102310 non-null  object \n",
            " 4   host name                       102193 non-null  object \n",
            " 5   neighbourhood group             102570 non-null  object \n",
            " 6   neighbourhood                   102583 non-null  object \n",
            " 7   lat                             102591 non-null  float64\n",
            " 8   long                            102591 non-null  float64\n",
            " 9   country                         102067 non-null  object \n",
            " 10  country code                    102468 non-null  object \n",
            " 11  instant_bookable                102494 non-null  object \n",
            " 12  cancellation_policy             102523 non-null  object \n",
            " 13  room type                       102599 non-null  object \n",
            " 14  Construction year               102385 non-null  float64\n",
            " 15  price                           102352 non-null  object \n",
            " 16  service fee                     102326 non-null  object \n",
            " 17  minimum nights                  102190 non-null  float64\n",
            " 18  number of reviews               102416 non-null  float64\n",
            " 19  last review                     86706 non-null   object \n",
            " 20  reviews per month               86720 non-null   float64\n",
            " 21  review rate number              102273 non-null  float64\n",
            " 22  calculated host listings count  102280 non-null  float64\n",
            " 23  availability 365                102151 non-null  float64\n",
            " 24  house_rules                     50468 non-null   object \n",
            " 25  license                         2 non-null       object \n",
            "dtypes: float64(9), int64(2), object(15)\n",
            "memory usage: 20.4+ MB\n"
          ]
        }
      ],
      "source": [
        "airbnb.info()"
      ]
    },
    {
      "cell_type": "markdown",
      "id": "cAkB_QvkK859",
      "metadata": {
        "id": "cAkB_QvkK859"
      },
      "source": [
        "## Tarea 2a: Limpieza de datos (cualquier herramienta)\n",
        "\n",
        "\n",
        "1. Elimina las columnas no deseadas del <i>dataframe</i>, entre ellas se incluyen `host id`, `id`, `country` y `country code`.\n",
        "2. Indica la razón por la cual se han eliminado estas columnas para tu análisis de datos.\n",
        "\n",
        "\n",
        "Si utilizas Python para este ejercicio, incluye el código que hayas utilizado en las celdas siguientes. Si utilizas cualquier otra herramienta, incluye capturas de pantalla tomadas antes y después de eliminar las columnas."
      ]
    },
    {
      "cell_type": "markdown",
      "metadata": {},
      "source": [
        "<span style=\"color:Lightgreen\">1. Elimina las columnas no deseadas del <i>dataframe</i>, entre ellas se incluyen `host id`, `id`, `country` y `country code`.</span>"
      ]
    },
    {
      "cell_type": "code",
      "execution_count": 5,
      "metadata": {},
      "outputs": [
        {
          "data": {
            "text/html": [
              "<div>\n",
              "<style scoped>\n",
              "    .dataframe tbody tr th:only-of-type {\n",
              "        vertical-align: middle;\n",
              "    }\n",
              "\n",
              "    .dataframe tbody tr th {\n",
              "        vertical-align: top;\n",
              "    }\n",
              "\n",
              "    .dataframe thead th {\n",
              "        text-align: right;\n",
              "    }\n",
              "</style>\n",
              "<table border=\"1\" class=\"dataframe\">\n",
              "  <thead>\n",
              "    <tr style=\"text-align: right;\">\n",
              "      <th></th>\n",
              "      <th>host id</th>\n",
              "      <th>id</th>\n",
              "      <th>country</th>\n",
              "      <th>country code</th>\n",
              "    </tr>\n",
              "  </thead>\n",
              "  <tbody>\n",
              "    <tr>\n",
              "      <th>0</th>\n",
              "      <td>80014485718</td>\n",
              "      <td>1001254</td>\n",
              "      <td>United States</td>\n",
              "      <td>US</td>\n",
              "    </tr>\n",
              "    <tr>\n",
              "      <th>1</th>\n",
              "      <td>52335172823</td>\n",
              "      <td>1002102</td>\n",
              "      <td>United States</td>\n",
              "      <td>US</td>\n",
              "    </tr>\n",
              "    <tr>\n",
              "      <th>2</th>\n",
              "      <td>78829239556</td>\n",
              "      <td>1002403</td>\n",
              "      <td>United States</td>\n",
              "      <td>US</td>\n",
              "    </tr>\n",
              "    <tr>\n",
              "      <th>3</th>\n",
              "      <td>85098326012</td>\n",
              "      <td>1002755</td>\n",
              "      <td>United States</td>\n",
              "      <td>US</td>\n",
              "    </tr>\n",
              "    <tr>\n",
              "      <th>4</th>\n",
              "      <td>92037596077</td>\n",
              "      <td>1003689</td>\n",
              "      <td>United States</td>\n",
              "      <td>US</td>\n",
              "    </tr>\n",
              "    <tr>\n",
              "      <th>...</th>\n",
              "      <td>...</td>\n",
              "      <td>...</td>\n",
              "      <td>...</td>\n",
              "      <td>...</td>\n",
              "    </tr>\n",
              "    <tr>\n",
              "      <th>102594</th>\n",
              "      <td>12312296767</td>\n",
              "      <td>6092437</td>\n",
              "      <td>United States</td>\n",
              "      <td>US</td>\n",
              "    </tr>\n",
              "    <tr>\n",
              "      <th>102595</th>\n",
              "      <td>77864383453</td>\n",
              "      <td>6092990</td>\n",
              "      <td>United States</td>\n",
              "      <td>US</td>\n",
              "    </tr>\n",
              "    <tr>\n",
              "      <th>102596</th>\n",
              "      <td>69050334417</td>\n",
              "      <td>6093542</td>\n",
              "      <td>United States</td>\n",
              "      <td>US</td>\n",
              "    </tr>\n",
              "    <tr>\n",
              "      <th>102597</th>\n",
              "      <td>11160591270</td>\n",
              "      <td>6094094</td>\n",
              "      <td>United States</td>\n",
              "      <td>US</td>\n",
              "    </tr>\n",
              "    <tr>\n",
              "      <th>102598</th>\n",
              "      <td>68170633372</td>\n",
              "      <td>6094647</td>\n",
              "      <td>United States</td>\n",
              "      <td>US</td>\n",
              "    </tr>\n",
              "  </tbody>\n",
              "</table>\n",
              "<p>102599 rows × 4 columns</p>\n",
              "</div>"
            ],
            "text/plain": [
              "            host id       id        country country code\n",
              "0       80014485718  1001254  United States           US\n",
              "1       52335172823  1002102  United States           US\n",
              "2       78829239556  1002403  United States           US\n",
              "3       85098326012  1002755  United States           US\n",
              "4       92037596077  1003689  United States           US\n",
              "...             ...      ...            ...          ...\n",
              "102594  12312296767  6092437  United States           US\n",
              "102595  77864383453  6092990  United States           US\n",
              "102596  69050334417  6093542  United States           US\n",
              "102597  11160591270  6094094  United States           US\n",
              "102598  68170633372  6094647  United States           US\n",
              "\n",
              "[102599 rows x 4 columns]"
            ]
          },
          "execution_count": 5,
          "metadata": {},
          "output_type": "execute_result"
        }
      ],
      "source": [
        "# Revisamos el contenido de estas columnas\n",
        "airbnb[['host id', 'id', 'country', 'country code']]"
      ]
    },
    {
      "cell_type": "code",
      "execution_count": 6,
      "metadata": {},
      "outputs": [
        {
          "name": "stdout",
          "output_type": "stream",
          "text": [
            "Index(['id', 'NAME', 'host id', 'host_identity_verified', 'host name',\n",
            "       'neighbourhood group', 'neighbourhood', 'lat', 'long', 'country',\n",
            "       'country code', 'instant_bookable', 'cancellation_policy', 'room type',\n",
            "       'Construction year', 'price', 'service fee', 'minimum nights',\n",
            "       'number of reviews', 'last review', 'reviews per month',\n",
            "       'review rate number', 'calculated host listings count',\n",
            "       'availability 365', 'house_rules', 'license'],\n",
            "      dtype='object')\n",
            "26\n"
          ]
        }
      ],
      "source": [
        "# Vemos las Columnas y el nro de Columnas\n",
        "print(airbnb.columns)\n",
        "print(len(airbnb.columns))\n",
        "\n",
        "# Eliminamos las columnas\n",
        "airbnb.drop(['host id', 'id', 'country', 'country code'], axis=1, inplace=True)"
      ]
    },
    {
      "cell_type": "code",
      "execution_count": 7,
      "id": "DoduWcK9K85-",
      "metadata": {
        "id": "DoduWcK9K85-"
      },
      "outputs": [
        {
          "name": "stdout",
          "output_type": "stream",
          "text": [
            "Columnas ->  Index(['NAME', 'host_identity_verified', 'host name', 'neighbourhood group',\n",
            "       'neighbourhood', 'lat', 'long', 'instant_bookable',\n",
            "       'cancellation_policy', 'room type', 'Construction year', 'price',\n",
            "       'service fee', 'minimum nights', 'number of reviews', 'last review',\n",
            "       'reviews per month', 'review rate number',\n",
            "       'calculated host listings count', 'availability 365', 'house_rules',\n",
            "       'license'],\n",
            "      dtype='object')\n",
            "Cantidad de Columnas ->  22\n"
          ]
        }
      ],
      "source": [
        "# Comprobamos que se hayan Borrado\n",
        "print('Columnas -> ',airbnb.columns)\n",
        "print('Cantidad de Columnas -> ',len(airbnb.columns))"
      ]
    },
    {
      "cell_type": "markdown",
      "metadata": {},
      "source": [
        "<span style=\"color:Lightgreen\">2. Indica la razón por la cual se han eliminado estas columnas para tu análisis de datos.</span>"
      ]
    },
    {
      "cell_type": "markdown",
      "metadata": {},
      "source": [
        "Porque son datos que no utilizaremos en este caso, por ejemplo los ID son sólo refenrecias de identidad en el caso de \"country y country code\" son datos que se repiten en toda la tabla, ya que todos estos datos son datos de Estados Unidos. Es necesario limpiar los datos y trabajar sólo con lo que necesitamos."
      ]
    },
    {
      "cell_type": "markdown",
      "id": "8v34rhNaK85_",
      "metadata": {
        "id": "8v34rhNaK85_"
      },
      "source": [
        "## Tarea 2b: Limpieza de datos (Python)\n",
        "\n",
        "\n",
        "1. Compueba si hay valores nulos y muestra el recuento en orden ascendente.\n",
        "2. Si faltan valores, imputa los valores como consideres.\n",
        "3. Comprueba si hay valores duplicados y elimínalos.\n",
        "4. Muestra el número total de registros antes y después de eliminar los duplicados."
      ]
    },
    {
      "cell_type": "markdown",
      "metadata": {},
      "source": [
        "<span style=\"color:Lightgreen\">1. Compueba si hay valores nulos y muestra el recuento en orden ascendente.</span>"
      ]
    },
    {
      "cell_type": "code",
      "execution_count": 8,
      "id": "Z2MfBKnyK86A",
      "metadata": {
        "id": "Z2MfBKnyK86A"
      },
      "outputs": [
        {
          "data": {
            "text/plain": [
              "room type                              0\n",
              "lat                                    8\n",
              "long                                   8\n",
              "neighbourhood                         16\n",
              "neighbourhood group                   29\n",
              "cancellation_policy                   76\n",
              "instant_bookable                     105\n",
              "number of reviews                    183\n",
              "Construction year                    214\n",
              "price                                247\n",
              "NAME                                 250\n",
              "service fee                          273\n",
              "host_identity_verified               289\n",
              "calculated host listings count       319\n",
              "review rate number                   326\n",
              "host name                            406\n",
              "minimum nights                       409\n",
              "availability 365                     448\n",
              "reviews per month                  15879\n",
              "last review                        15893\n",
              "house_rules                        52131\n",
              "license                           102597\n",
              "dtype: int64"
            ]
          },
          "execution_count": 8,
          "metadata": {},
          "output_type": "execute_result"
        }
      ],
      "source": [
        "# Sumamos los valores nulos y ordenamos de forma ascendente\n",
        "airbnb.isnull().sum().sort_values(ascending=True)\n"
      ]
    },
    {
      "cell_type": "markdown",
      "metadata": {},
      "source": [
        "<span style=\"color:Lightgreen\">2. Si faltan valores, imputa los valores como consideres.</span>"
      ]
    },
    {
      "cell_type": "code",
      "execution_count": 9,
      "metadata": {},
      "outputs": [
        {
          "name": "stdout",
          "output_type": "stream",
          "text": [
            "Rellenando valores NULL en la columna categórica:  NAME\n",
            "Rellenando valores NULL en la columna categórica:  host_identity_verified\n",
            "Rellenando valores NULL en la columna categórica:  host name\n",
            "Rellenando valores NULL en la columna categórica:  neighbourhood group\n",
            "Rellenando valores NULL en la columna categórica:  neighbourhood\n",
            "Rellenando valores NULL en la columna numérica:  lat\n",
            "Rellenando valores NULL en la columna numérica:  long\n",
            "Rellenando valores NULL en la columna categórica:  instant_bookable\n",
            "Rellenando valores NULL en la columna categórica:  cancellation_policy\n",
            "Rellenando valores NULL en la columna categórica:  room type\n",
            "Rellenando valores NULL en la columna numérica:  Construction year\n",
            "Rellenando valores NULL en la columna categórica:  price\n",
            "Rellenando valores NULL en la columna categórica:  service fee\n",
            "Rellenando valores NULL en la columna numérica:  minimum nights\n",
            "Rellenando valores NULL en la columna numérica:  number of reviews\n",
            "Rellenando valores NULL en la columna categórica:  last review\n",
            "Rellenando valores NULL en la columna numérica:  reviews per month\n",
            "Rellenando valores NULL en la columna numérica:  review rate number\n",
            "Rellenando valores NULL en la columna numérica:  calculated host listings count\n",
            "Rellenando valores NULL en la columna numérica:  availability 365\n",
            "Rellenando valores NULL en la columna categórica:  house_rules\n",
            "Rellenando valores NULL en la columna categórica:  license\n"
          ]
        }
      ],
      "source": [
        "# Bucle para Rellenar los Valores NULL\n",
        "for col in airbnb.columns:\n",
        "    # Si La columna es de tipo object ('O'), se asume que es categórica o texto\n",
        "    if airbnb[col].dtype == 'O':\n",
        "        print(\"Rellenando valores NULL en la columna categórica: \", col)\n",
        "        # Rellenar los valores nulos con la moda (valor más frecuente)\n",
        "        airbnb[col].fillna(value=airbnb[col].mode()[0], inplace=True)\n",
        "    else:\n",
        "        # Rellenar los valores nulos con la media\n",
        "        print(\"Rellenando valores NULL en la columna numérica: \", col)\n",
        "        airbnb[col].fillna(value=airbnb[col].median(), inplace=True)"
      ]
    },
    {
      "cell_type": "code",
      "execution_count": 10,
      "metadata": {},
      "outputs": [
        {
          "data": {
            "text/plain": [
              "NAME                              0\n",
              "host_identity_verified            0\n",
              "host name                         0\n",
              "neighbourhood group               0\n",
              "neighbourhood                     0\n",
              "lat                               0\n",
              "long                              0\n",
              "instant_bookable                  0\n",
              "cancellation_policy               0\n",
              "room type                         0\n",
              "Construction year                 0\n",
              "price                             0\n",
              "service fee                       0\n",
              "minimum nights                    0\n",
              "number of reviews                 0\n",
              "last review                       0\n",
              "reviews per month                 0\n",
              "review rate number                0\n",
              "calculated host listings count    0\n",
              "availability 365                  0\n",
              "house_rules                       0\n",
              "license                           0\n",
              "dtype: int64"
            ]
          },
          "execution_count": 10,
          "metadata": {},
          "output_type": "execute_result"
        }
      ],
      "source": [
        "# Comprobar que no existan valores NULL\n",
        "airbnb.isnull().sum()"
      ]
    },
    {
      "cell_type": "markdown",
      "metadata": {},
      "source": [
        "<span style=\"color:Lightgreen\">3. Comprueba si hay valores duplicados y elimínalos.\n",
        "</span>"
      ]
    },
    {
      "cell_type": "code",
      "execution_count": 11,
      "id": "-huqnzKlK86A",
      "metadata": {
        "id": "-huqnzKlK86A"
      },
      "outputs": [
        {
          "name": "stdout",
          "output_type": "stream",
          "text": [
            "Cantidad de duplicados ->  3461\n",
            "Filas, Columnas ->  (102599, 22)\n"
          ]
        }
      ],
      "source": [
        "# Sumamos los valores duplicados y los mostramos.\n",
        "print('Cantidad de duplicados -> ',airbnb.duplicated().sum())\n",
        "# Mostramos la cantidad de filas y columnas existentes\n",
        "print('Filas, Columnas -> ',airbnb.shape)\n",
        "\n",
        "# Eliminamos los valores duplicated\n",
        "airbnb.drop_duplicates(inplace=True)"
      ]
    },
    {
      "cell_type": "markdown",
      "metadata": {},
      "source": [
        "<span style=\"color:Lightgreen\">4. Muestra el número total de registros antes y después de eliminar los duplicados.\n",
        "</span>"
      ]
    },
    {
      "cell_type": "code",
      "execution_count": 12,
      "id": "pJDuUXTTK86A",
      "metadata": {
        "id": "pJDuUXTTK86A"
      },
      "outputs": [
        {
          "name": "stdout",
          "output_type": "stream",
          "text": [
            "Cantidad de duplicados ->  0\n",
            "Filas, Columnas ->  (99138, 22)\n"
          ]
        }
      ],
      "source": [
        "# Revisamos los valores duplicados se hayan eliminado.\n",
        "print('Cantidad de duplicados -> ',airbnb.duplicated().sum())\n",
        "print('Filas, Columnas -> ',airbnb.shape)"
      ]
    },
    {
      "cell_type": "markdown",
      "id": "jI9H0IAEK86B",
      "metadata": {
        "id": "jI9H0IAEK86B"
      },
      "source": [
        "\n",
        "## Tarea 3: Transformación de datos (cualquier herramienta)\n",
        "\n",
        "\n",
        "\n",
        "\n",
        "\n",
        "1. Cambia el nombre de la columna `availability 365` a `days_booked`.\n",
        "2. Convierte todos los nombres de columna a minúsculas y sustituye los espacios en los nombres de columna por un guión bajo \"_\".\n",
        "3. Elimina el signo de dólares y la coma de las columnas `price` y `service_fee`. Si es necesario, convierte estas dos columnas al tipo de datos adecuado.\n",
        "\n",
        "\n",
        "\n",
        "Si utilizas Python para este ejercicio, incluye el código que hayas utilizado en las celdas siguientes. Si utilizas cualquier otra herramienta, incluye capturas de pantalla de tu trabajo."
      ]
    },
    {
      "cell_type": "markdown",
      "metadata": {},
      "source": [
        "<span style=\"color:Lightgreen\">1. Cambia el nombre de la columna `availability 365` a `days_booked`.</span>"
      ]
    },
    {
      "cell_type": "code",
      "execution_count": 13,
      "metadata": {},
      "outputs": [
        {
          "data": {
            "text/plain": [
              "Index(['NAME', 'host_identity_verified', 'host name', 'neighbourhood group',\n",
              "       'neighbourhood', 'lat', 'long', 'instant_bookable',\n",
              "       'cancellation_policy', 'room type', 'Construction year', 'price',\n",
              "       'service fee', 'minimum nights', 'number of reviews', 'last review',\n",
              "       'reviews per month', 'review rate number',\n",
              "       'calculated host listings count', 'availability 365', 'house_rules',\n",
              "       'license'],\n",
              "      dtype='object')"
            ]
          },
          "execution_count": 13,
          "metadata": {},
          "output_type": "execute_result"
        }
      ],
      "source": [
        "# Mostramos las Columnas\n",
        "airbnb.columns"
      ]
    },
    {
      "cell_type": "code",
      "execution_count": 14,
      "id": "dzJpmYvhK86B",
      "metadata": {
        "id": "dzJpmYvhK86B"
      },
      "outputs": [
        {
          "data": {
            "text/plain": [
              "'days_booked'"
            ]
          },
          "execution_count": 14,
          "metadata": {},
          "output_type": "execute_result"
        }
      ],
      "source": [
        "# Renombramos la columna en el mismo DataFrame\n",
        "airbnb.rename(columns={'availability 365': 'days_booked'}, inplace=True)\n",
        "# Revisamos que se haya cambiado el nombre de la Columna en la posicion 19\n",
        "airbnb.columns[19]"
      ]
    },
    {
      "cell_type": "markdown",
      "metadata": {},
      "source": [
        "<span style=\"color:Lightgreen\">2. Convierte todos los nombres de columna a minúsculas y sustituye los espacios en los nombres de columna por un guión bajo \"_\".</span>"
      ]
    },
    {
      "cell_type": "code",
      "execution_count": 15,
      "id": "KqsgZ1aBK86C",
      "metadata": {
        "id": "KqsgZ1aBK86C"
      },
      "outputs": [
        {
          "name": "stdout",
          "output_type": "stream",
          "text": [
            "Index(['NAME', 'host_identity_verified', 'host name', 'neighbourhood group',\n",
            "       'neighbourhood', 'lat', 'long', 'instant_bookable',\n",
            "       'cancellation_policy', 'room type', 'Construction year', 'price',\n",
            "       'service fee', 'minimum nights', 'number of reviews', 'last review',\n",
            "       'reviews per month', 'review rate number',\n",
            "       'calculated host listings count', 'days_booked', 'house_rules',\n",
            "       'license'],\n",
            "      dtype='object')\n",
            "Index(['name', 'host_identity_verified', 'host_name', 'neighbourhood_group',\n",
            "       'neighbourhood', 'lat', 'long', 'instant_bookable',\n",
            "       'cancellation_policy', 'room_type', 'construction_year', 'price',\n",
            "       'service_fee', 'minimum_nights', 'number_of_reviews', 'last_review',\n",
            "       'reviews_per_month', 'review_rate_number',\n",
            "       'calculated_host_listings_count', 'days_booked', 'house_rules',\n",
            "       'license'],\n",
            "      dtype='object')\n"
          ]
        }
      ],
      "source": [
        "# Mostramos el nombre de las columnas sin editar.\n",
        "print(airbnb.columns)\n",
        "# Convertimos a Minúsculas y Reemplazamos el espacio por el guión bajo mediante un bucle for para todas las columnas\n",
        "airbnb.columns = [col.lower().replace(\" \", \"_\") for col in airbnb.columns]\n",
        "# Mostramos el nombre de las columnas editadas.\n",
        "print(airbnb.columns)"
      ]
    },
    {
      "cell_type": "markdown",
      "metadata": {},
      "source": [
        "<span style=\"color:Lightgreen\">3. Elimina el signo de dólares y la coma de las columnas `price` y `service_fee`. Si es necesario, convierte estas dos columnas al tipo de datos adecuado.</span>"
      ]
    },
    {
      "cell_type": "code",
      "execution_count": 16,
      "metadata": {},
      "outputs": [],
      "source": [
        "# Creamos una función para eliminar '$' y ','\n",
        "def remove_dollar_sign(value):\n",
        "    # Si es un valor NaN o None devuelve True si el valor es nulo y False si no lo es.\n",
        "    if pd.isna(value):\n",
        "        # Devuelve un valor especial llamado NaN (que significa “Not a Number”).\n",
        "        return np.NAN\n",
        "    else:\n",
        "        # Si no es NaN o None reemplaza $ y , por nada y lo convierte en float\n",
        "        return float(value.replace(\"$\", \"\").replace(\",\", \"\"))"
      ]
    },
    {
      "cell_type": "code",
      "execution_count": 17,
      "metadata": {},
      "outputs": [
        {
          "data": {
            "text/plain": [
              "0          966.0\n",
              "1          142.0\n",
              "2          620.0\n",
              "3          368.0\n",
              "4          204.0\n",
              "           ...  \n",
              "102053     696.0\n",
              "102054     909.0\n",
              "102055     387.0\n",
              "102056     848.0\n",
              "102057    1128.0\n",
              "Name: price, Length: 99138, dtype: float64"
            ]
          },
          "execution_count": 17,
          "metadata": {},
          "output_type": "execute_result"
        }
      ],
      "source": [
        "# Aplicamos la función a la columna 'price' utilizando apply y Redefinimos la Columna\n",
        "airbnb['price'] = airbnb['price'].apply(lambda x: remove_dollar_sign(x))\n",
        "airbnb['price']"
      ]
    },
    {
      "cell_type": "code",
      "execution_count": 18,
      "metadata": {},
      "outputs": [
        {
          "data": {
            "text/plain": [
              "0         193.0\n",
              "1          28.0\n",
              "2         124.0\n",
              "3          74.0\n",
              "4          41.0\n",
              "          ...  \n",
              "102053     41.0\n",
              "102054     41.0\n",
              "102055     41.0\n",
              "102056     41.0\n",
              "102057     41.0\n",
              "Name: service_fee, Length: 99138, dtype: float64"
            ]
          },
          "execution_count": 18,
          "metadata": {},
          "output_type": "execute_result"
        }
      ],
      "source": [
        "# Aplicamos la función a la columna 'service_fee' utilizando apply y Redefinimos la Columna\n",
        "airbnb['service_fee'] = airbnb['service_fee'].apply(lambda x: remove_dollar_sign(x))\n",
        "airbnb['service_fee']\n"
      ]
    },
    {
      "cell_type": "code",
      "execution_count": 19,
      "metadata": {},
      "outputs": [
        {
          "data": {
            "text/html": [
              "<div>\n",
              "<style scoped>\n",
              "    .dataframe tbody tr th:only-of-type {\n",
              "        vertical-align: middle;\n",
              "    }\n",
              "\n",
              "    .dataframe tbody tr th {\n",
              "        vertical-align: top;\n",
              "    }\n",
              "\n",
              "    .dataframe thead th {\n",
              "        text-align: right;\n",
              "    }\n",
              "</style>\n",
              "<table border=\"1\" class=\"dataframe\">\n",
              "  <thead>\n",
              "    <tr style=\"text-align: right;\">\n",
              "      <th></th>\n",
              "      <th>price</th>\n",
              "      <th>service_fee</th>\n",
              "    </tr>\n",
              "  </thead>\n",
              "  <tbody>\n",
              "    <tr>\n",
              "      <th>0</th>\n",
              "      <td>966.0</td>\n",
              "      <td>193.0</td>\n",
              "    </tr>\n",
              "    <tr>\n",
              "      <th>1</th>\n",
              "      <td>142.0</td>\n",
              "      <td>28.0</td>\n",
              "    </tr>\n",
              "    <tr>\n",
              "      <th>2</th>\n",
              "      <td>620.0</td>\n",
              "      <td>124.0</td>\n",
              "    </tr>\n",
              "    <tr>\n",
              "      <th>3</th>\n",
              "      <td>368.0</td>\n",
              "      <td>74.0</td>\n",
              "    </tr>\n",
              "    <tr>\n",
              "      <th>4</th>\n",
              "      <td>204.0</td>\n",
              "      <td>41.0</td>\n",
              "    </tr>\n",
              "    <tr>\n",
              "      <th>...</th>\n",
              "      <td>...</td>\n",
              "      <td>...</td>\n",
              "    </tr>\n",
              "    <tr>\n",
              "      <th>102053</th>\n",
              "      <td>696.0</td>\n",
              "      <td>41.0</td>\n",
              "    </tr>\n",
              "    <tr>\n",
              "      <th>102054</th>\n",
              "      <td>909.0</td>\n",
              "      <td>41.0</td>\n",
              "    </tr>\n",
              "    <tr>\n",
              "      <th>102055</th>\n",
              "      <td>387.0</td>\n",
              "      <td>41.0</td>\n",
              "    </tr>\n",
              "    <tr>\n",
              "      <th>102056</th>\n",
              "      <td>848.0</td>\n",
              "      <td>41.0</td>\n",
              "    </tr>\n",
              "    <tr>\n",
              "      <th>102057</th>\n",
              "      <td>1128.0</td>\n",
              "      <td>41.0</td>\n",
              "    </tr>\n",
              "  </tbody>\n",
              "</table>\n",
              "<p>99138 rows × 2 columns</p>\n",
              "</div>"
            ],
            "text/plain": [
              "         price  service_fee\n",
              "0        966.0        193.0\n",
              "1        142.0         28.0\n",
              "2        620.0        124.0\n",
              "3        368.0         74.0\n",
              "4        204.0         41.0\n",
              "...        ...          ...\n",
              "102053   696.0         41.0\n",
              "102054   909.0         41.0\n",
              "102055   387.0         41.0\n",
              "102056   848.0         41.0\n",
              "102057  1128.0         41.0\n",
              "\n",
              "[99138 rows x 2 columns]"
            ]
          },
          "execution_count": 19,
          "metadata": {},
          "output_type": "execute_result"
        }
      ],
      "source": [
        "# Revisamos las Columnas price y service free\n",
        "airbnb[['price', 'service_fee']]"
      ]
    },
    {
      "cell_type": "markdown",
      "id": "DxyVsRzyK86C",
      "metadata": {
        "id": "DxyVsRzyK86C"
      },
      "source": [
        "## Tarea 4: Análisis exploratorio de datos (cualquier herramienta)\n",
        "\n",
        "\n",
        "\n",
        "1. Enumera los tipos de habitaciones disponibles en el <i>dataset</i>.\n",
        "2. ¿Qué tipo de habitación tiene la política de cancelación más estricta?\n",
        "3. Enumera el precio medio por barrio y señala cuál es el conjunto de barrios más caro para alquilar.\n",
        "\n",
        "\n",
        "\n",
        "Si utilizas Python para este ejercicio, incluye el código que hayas utilizado en las celdas siguientes. Si utilizas cualquier otra herramienta, incluye capturas de pantalla de tu trabajo."
      ]
    },
    {
      "cell_type": "markdown",
      "metadata": {},
      "source": [
        "<span style=\"color:Lightgreen\">1. Enumera los tipos de habitaciones disponibles en el <i>dataset</i>.\n",
        "</span>"
      ]
    },
    {
      "cell_type": "code",
      "execution_count": 20,
      "id": "ylqpVpIaK86D",
      "metadata": {
        "id": "ylqpVpIaK86D"
      },
      "outputs": [
        {
          "data": {
            "text/plain": [
              "room_type\n",
              "Entire home/apt    51987\n",
              "Private room       44887\n",
              "Shared room         2149\n",
              "Hotel room           115\n",
              "Name: count, dtype: int64"
            ]
          },
          "execution_count": 20,
          "metadata": {},
          "output_type": "execute_result"
        }
      ],
      "source": [
        "# Relizamos un conteo de los valores existentes en la columna ['room_type']\n",
        "airbnb['room_type'].value_counts()"
      ]
    },
    {
      "cell_type": "markdown",
      "metadata": {},
      "source": [
        "<span style=\"color:Lightgreen\">2. ¿Qué tipo de habitación tiene la política de cancelación más estricta?</span>"
      ]
    },
    {
      "cell_type": "code",
      "execution_count": 21,
      "id": "EOF0g2geK86D",
      "metadata": {
        "id": "EOF0g2geK86D"
      },
      "outputs": [
        {
          "data": {
            "text/plain": [
              "room_type        cancellation_policy\n",
              "Entire home/apt  strict                 17238\n",
              "Private room     strict                 14936\n",
              "Shared room      strict                   718\n",
              "Hotel room       strict                    34\n",
              "Name: count, dtype: int64"
            ]
          },
          "execution_count": 21,
          "metadata": {},
          "output_type": "execute_result"
        }
      ],
      "source": [
        "# Filtramos dentro de la Columna ['cancellation_policy'] los valores que sean igual a 'strict' y reasignamos el Dataframe\n",
        "policy_strict = airbnb[airbnb['cancellation_policy'] == 'strict'] \n",
        "# Realizamos un conteo de los valores que existen en las columnas ['room_type', 'cancellation_policy']\n",
        "policy_strict[['room_type', 'cancellation_policy']].value_counts()"
      ]
    },
    {
      "cell_type": "code",
      "execution_count": 22,
      "metadata": {},
      "outputs": [
        {
          "name": "stdout",
          "output_type": "stream",
          "text": [
            "El tipo de habitación más estricta en Airbnb es -> Entire home/apt\n"
          ]
        }
      ],
      "source": [
        "# Guardamos en una Variable el conteo de valores de la columna 'room_type'\n",
        "cont_tipe_room = policy_strict['room_type'].value_counts()\n",
        "\n",
        "# Encuentramos el tipo de habitación más común\n",
        "tipo_mas_estrico = cont_tipe_room.idxmax()\n",
        "\n",
        "print(f\"El tipo de habitación más estricta en Airbnb es -> {tipo_mas_estrico}\")"
      ]
    },
    {
      "cell_type": "markdown",
      "metadata": {},
      "source": [
        "<span style=\"color:Lightgreen\">3. Enumera el precio medio por barrio y señala cuál es el conjunto de barrios más caro para alquilar.\n",
        "</span>"
      ]
    },
    {
      "cell_type": "code",
      "execution_count": 23,
      "metadata": {},
      "outputs": [
        {
          "data": {
            "text/plain": [
              "array(['Brooklyn', 'Manhattan', 'brookln', 'manhatan', 'Queens',\n",
              "       'Staten Island', 'Bronx'], dtype=object)"
            ]
          },
          "execution_count": 23,
          "metadata": {},
          "output_type": "execute_result"
        }
      ],
      "source": [
        "# Realizamos una consulta de valores únicos de la columna 'neighbourhood_group'\n",
        "airbnb['neighbourhood_group'].unique()"
      ]
    },
    {
      "cell_type": "code",
      "execution_count": 24,
      "metadata": {},
      "outputs": [
        {
          "data": {
            "text/plain": [
              "array(['Brooklyn', 'Manhattan', 'Queens', 'Staten Island', 'Bronx'],\n",
              "      dtype=object)"
            ]
          },
          "execution_count": 24,
          "metadata": {},
          "output_type": "execute_result"
        }
      ],
      "source": [
        "# Detectamos que los valores 'brookln', 'manhatan' están repetidos.\n",
        "# Reemplazamos esos datos para que no exista duplicidad en los datos\n",
        "\n",
        "airbnb['neighbourhood_group'] = airbnb['neighbourhood_group'].replace({'brookln': 'Brooklyn', 'manhatan': 'Manhattan'})\n",
        "\n",
        "# Verificamos que se haya efectuado el cambio\n",
        "airbnb['neighbourhood_group'].unique()"
      ]
    },
    {
      "cell_type": "code",
      "execution_count": 25,
      "id": "7fIwo9SrK86E",
      "metadata": {
        "id": "7fIwo9SrK86E"
      },
      "outputs": [
        {
          "data": {
            "text/plain": [
              "neighbourhood_group\n",
              "Queens           628.668822\n",
              "Brooklyn         625.470501\n",
              "Bronx            625.271511\n",
              "Staten Island    625.060870\n",
              "Manhattan        621.662326\n",
              "Name: price, dtype: float64"
            ]
          },
          "execution_count": 25,
          "metadata": {},
          "output_type": "execute_result"
        }
      ],
      "source": [
        "# Agrupamos la columna 'price' por el 'grupo_vecindario', Sacamos la media en un orden descendente y asignamos a una variable\n",
        "price_group_vec = airbnb['price'].groupby(airbnb['neighbourhood_group']).mean().sort_values(ascending=False)\n",
        "price_group_vec\n"
      ]
    },
    {
      "cell_type": "code",
      "execution_count": 26,
      "metadata": {},
      "outputs": [
        {
          "name": "stdout",
          "output_type": "stream",
          "text": [
            "El conjunto de barrios más caro para alquilar es -> Queens\n"
          ]
        }
      ],
      "source": [
        "print(f\"El conjunto de barrios más caro para alquilar es -> {price_group_vec.idxmax()}\")"
      ]
    },
    {
      "cell_type": "markdown",
      "id": "MqAfrs2_K86E",
      "metadata": {
        "id": "MqAfrs2_K86E"
      },
      "source": [
        "## Tarea 5a: Visualización de datos (Cualquier herramienta)\n",
        "\n",
        "* Enumerar los distintos tipos de habitaciones disponibles en Airnb\n",
        "* Qué tipo de habitación se adhiere a una política de cancelación más estricta.\n",
        "* Enumere los 10 barrios más caros por orden creciente de precio con la ayuda de un gráfico de barras horizontales. ¿Cuál es el barrio más barato?\n",
        "* Enumere los barrios que ofrecen alquileres a corto plazo de menos de 10 días. Ilustrar con un gráfico de barras\n",
        "* Enumere los precios con respecto al tipo de habitación utilizando un gráfico de barras y exponga también sus inferencias.\n",
        "* Cree un gráfico circular que muestre la distribución de los días reservados para cada grupo de barrios.\n",
        "\n",
        "Si utiliza Python para este ejercicio, por favor incluya el código en las celdas de abajo. Si utiliza cualquier otra herramienta, por favor incluya pantallazos de su trabajo."
      ]
    },
    {
      "cell_type": "markdown",
      "metadata": {},
      "source": [
        "<span style=\"color:Lightgreen\">1. Enumerar los distintos tipos de habitaciones disponibles en Airnb\n",
        "</span>"
      ]
    },
    {
      "cell_type": "code",
      "execution_count": 27,
      "metadata": {},
      "outputs": [
        {
          "data": {
            "text/plain": [
              "Index(['name', 'host_identity_verified', 'host_name', 'neighbourhood_group',\n",
              "       'neighbourhood', 'lat', 'long', 'instant_bookable',\n",
              "       'cancellation_policy', 'room_type', 'construction_year', 'price',\n",
              "       'service_fee', 'minimum_nights', 'number_of_reviews', 'last_review',\n",
              "       'reviews_per_month', 'review_rate_number',\n",
              "       'calculated_host_listings_count', 'days_booked', 'house_rules',\n",
              "       'license'],\n",
              "      dtype='object')"
            ]
          },
          "execution_count": 27,
          "metadata": {},
          "output_type": "execute_result"
        }
      ],
      "source": [
        "airbnb.columns"
      ]
    },
    {
      "cell_type": "code",
      "execution_count": 28,
      "id": "WcAcrUvTK86F",
      "metadata": {
        "id": "WcAcrUvTK86F"
      },
      "outputs": [
        {
          "name": "stdout",
          "output_type": "stream",
          "text": [
            "Tipo de habitación: Private room\n",
            "Tipo de habitación: Entire home/apt\n",
            "Tipo de habitación: Shared room\n",
            "Tipo de habitación: Hotel room\n"
          ]
        }
      ],
      "source": [
        "# Guardamos los valores únicos de la columna 'room_type' en una variable\n",
        "tipos_habitacion = airbnb['room_type'].unique()\n",
        "# Mostramos mediante un bucle los tipos de habitaciones disponibles.\n",
        "for tipo in tipos_habitacion:\n",
        "    print(f\"Tipo de habitación: {tipo}\")\n"
      ]
    },
    {
      "cell_type": "markdown",
      "metadata": {},
      "source": [
        "<span style=\"color:Lightgreen\">2. Qué tipo de habitación se adhiere a una política de cancelación más estricta.</span>"
      ]
    },
    {
      "cell_type": "code",
      "execution_count": 29,
      "id": "JYOjAgTVK86F",
      "metadata": {
        "id": "JYOjAgTVK86F"
      },
      "outputs": [
        {
          "data": {
            "text/plain": [
              "room_type\n",
              "Entire home/apt    17238\n",
              "Private room       14936\n",
              "Shared room          718\n",
              "Hotel room            34\n",
              "Name: count, dtype: int64"
            ]
          },
          "execution_count": 29,
          "metadata": {},
          "output_type": "execute_result"
        }
      ],
      "source": [
        "#   Filtramos las politicas de cancelación más estrictas\n",
        "policy_strict = airbnb[airbnb['cancellation_policy'] == 'strict']\n",
        "#   Ahora hacemos un conteo de los tipos de habitación\n",
        "count_tipe_room = policy_strict['room_type'].value_counts()\n",
        "count_tipe_room\n"
      ]
    },
    {
      "cell_type": "code",
      "execution_count": 30,
      "metadata": {},
      "outputs": [
        {
          "name": "stdout",
          "output_type": "stream",
          "text": [
            "El tipo de habitación más estricta en Airbnb es -> Entire home/apt\n"
          ]
        }
      ],
      "source": [
        "#   Intentamos encontrar el tipo de habitación más común\n",
        "tipo_mas_estrico = count_tipe_room.idxmax()\n",
        "print(f\"El tipo de habitación más estricta en Airbnb es -> {tipo_mas_estrico}\")"
      ]
    },
    {
      "cell_type": "code",
      "execution_count": 34,
      "metadata": {},
      "outputs": [
        {
          "data": {
            "text/plain": [
              "<Axes: xlabel='room_type'>"
            ]
          },
          "execution_count": 34,
          "metadata": {},
          "output_type": "execute_result"
        },
        {
          "data": {
            "image/png": "[encoded data removed]",
            "text/plain": [
              "<Figure size 640x480 with 1 Axes>"
            ]
          },
          "metadata": {},
          "output_type": "display_data"
        }
      ],
      "source": [
        "# Importamos matplotlib.pyplot\n",
        "import matplotlib.pyplot as plt\n",
        "# Mostramos en un gráfico de barras la varible count_tipe_room\n",
        "count_tipe_room.plot(kind='bar', stacked=True)"
      ]
    },
    {
      "cell_type": "markdown",
      "metadata": {},
      "source": [
        "<span style=\"color:Lightgreen\">3. Enumere los 10 barrios más caros por orden creciente de precio con la ayuda de un gráfico de barras horizontales. ¿Cuál es el barrio más barato?</span>"
      ]
    },
    {
      "cell_type": "code",
      "execution_count": 35,
      "id": "MLDWJj_jK86G",
      "metadata": {
        "id": "MLDWJj_jK86G"
      },
      "outputs": [
        {
          "data": {
            "text/plain": [
              "neighbourhood\n",
              "Riverdale                  768.736842\n",
              "Mill Basin                 775.142857\n",
              "Midland Beach              796.176471\n",
              "Arden Heights              804.888889\n",
              "Shore Acres                805.142857\n",
              "Jamaica Hills              812.904762\n",
              "Little Neck                817.750000\n",
              "Fort Wadsworth            1024.000000\n",
              "Chelsea, Staten Island    1042.000000\n",
              "New Dorp                  1045.333333\n",
              "Name: price, dtype: float64"
            ]
          },
          "execution_count": 35,
          "metadata": {},
          "output_type": "execute_result"
        }
      ],
      "source": [
        "# Sacamos la media de los precios agrupados por el vecindario en orden descendente\n",
        "group_neighbourhood_expensive = airbnb['price'].groupby(airbnb['neighbourhood']).mean().sort_values(ascending=True)\n",
        "# Mostramos los 10 barrios más caros\n",
        "barrios_caros = group_neighbourhood_expensive.tail(10)\n",
        "barrios_caros"
      ]
    },
    {
      "cell_type": "code",
      "execution_count": 36,
      "metadata": {},
      "outputs": [
        {
          "data": {
            "text/plain": [
              "<Axes: xlabel='neighbourhood'>"
            ]
          },
          "execution_count": 36,
          "metadata": {},
          "output_type": "execute_result"
        },
        {
          "data": {
            "image/png": "[encoded data removed]",
            "text/plain": [
              "<Figure size 640x480 with 1 Axes>"
            ]
          },
          "metadata": {},
          "output_type": "display_data"
        }
      ],
      "source": [
        "import matplotlib.pyplot as plt\n",
        "barrios_caros.plot(kind='bar')"
      ]
    },
    {
      "cell_type": "markdown",
      "metadata": {},
      "source": [
        "<span style=\"color:Lightgreen\">4. Enumere los barrios que ofrecen alquileres a corto plazo de menos de 10 días. Ilustrar con un gráfico de barras.</span>"
      ]
    },
    {
      "cell_type": "code",
      "execution_count": 37,
      "metadata": {},
      "outputs": [
        {
          "data": {
            "text/html": [
              "<div>\n",
              "<style scoped>\n",
              "    .dataframe tbody tr th:only-of-type {\n",
              "        vertical-align: middle;\n",
              "    }\n",
              "\n",
              "    .dataframe tbody tr th {\n",
              "        vertical-align: top;\n",
              "    }\n",
              "\n",
              "    .dataframe thead th {\n",
              "        text-align: right;\n",
              "    }\n",
              "</style>\n",
              "<table border=\"1\" class=\"dataframe\">\n",
              "  <thead>\n",
              "    <tr style=\"text-align: right;\">\n",
              "      <th></th>\n",
              "      <th>name</th>\n",
              "      <th>host_identity_verified</th>\n",
              "      <th>host_name</th>\n",
              "      <th>neighbourhood_group</th>\n",
              "      <th>neighbourhood</th>\n",
              "      <th>lat</th>\n",
              "      <th>long</th>\n",
              "      <th>instant_bookable</th>\n",
              "      <th>cancellation_policy</th>\n",
              "      <th>room_type</th>\n",
              "      <th>...</th>\n",
              "      <th>service_fee</th>\n",
              "      <th>minimum_nights</th>\n",
              "      <th>number_of_reviews</th>\n",
              "      <th>last_review</th>\n",
              "      <th>reviews_per_month</th>\n",
              "      <th>review_rate_number</th>\n",
              "      <th>calculated_host_listings_count</th>\n",
              "      <th>days_booked</th>\n",
              "      <th>house_rules</th>\n",
              "      <th>license</th>\n",
              "    </tr>\n",
              "  </thead>\n",
              "  <tbody>\n",
              "    <tr>\n",
              "      <th>2</th>\n",
              "      <td>THE VILLAGE OF HARLEM....NEW YORK !</td>\n",
              "      <td>unconfirmed</td>\n",
              "      <td>Elise</td>\n",
              "      <td>Manhattan</td>\n",
              "      <td>Harlem</td>\n",
              "      <td>40.80902</td>\n",
              "      <td>-73.94190</td>\n",
              "      <td>True</td>\n",
              "      <td>flexible</td>\n",
              "      <td>Private room</td>\n",
              "      <td>...</td>\n",
              "      <td>124.0</td>\n",
              "      <td>3.0</td>\n",
              "      <td>0.0</td>\n",
              "      <td>6/23/2019</td>\n",
              "      <td>0.74</td>\n",
              "      <td>5.0</td>\n",
              "      <td>1.0</td>\n",
              "      <td>352.0</td>\n",
              "      <td>I encourage you to use my kitchen, cooking and...</td>\n",
              "      <td>41662/AL</td>\n",
              "    </tr>\n",
              "    <tr>\n",
              "      <th>5</th>\n",
              "      <td>Large Cozy 1 BR Apartment In Midtown East</td>\n",
              "      <td>verified</td>\n",
              "      <td>Michelle</td>\n",
              "      <td>Manhattan</td>\n",
              "      <td>Murray Hill</td>\n",
              "      <td>40.74767</td>\n",
              "      <td>-73.97500</td>\n",
              "      <td>True</td>\n",
              "      <td>flexible</td>\n",
              "      <td>Entire home/apt</td>\n",
              "      <td>...</td>\n",
              "      <td>115.0</td>\n",
              "      <td>3.0</td>\n",
              "      <td>74.0</td>\n",
              "      <td>6/22/2019</td>\n",
              "      <td>0.59</td>\n",
              "      <td>3.0</td>\n",
              "      <td>1.0</td>\n",
              "      <td>374.0</td>\n",
              "      <td>No smoking, please, and no drugs.</td>\n",
              "      <td>41662/AL</td>\n",
              "    </tr>\n",
              "    <tr>\n",
              "      <th>8</th>\n",
              "      <td>Large Furnished Room Near B'way</td>\n",
              "      <td>verified</td>\n",
              "      <td>Evelyn</td>\n",
              "      <td>Manhattan</td>\n",
              "      <td>Hell's Kitchen</td>\n",
              "      <td>40.76489</td>\n",
              "      <td>-73.98493</td>\n",
              "      <td>True</td>\n",
              "      <td>strict</td>\n",
              "      <td>Private room</td>\n",
              "      <td>...</td>\n",
              "      <td>204.0</td>\n",
              "      <td>2.0</td>\n",
              "      <td>430.0</td>\n",
              "      <td>6/24/2019</td>\n",
              "      <td>3.47</td>\n",
              "      <td>3.0</td>\n",
              "      <td>1.0</td>\n",
              "      <td>180.0</td>\n",
              "      <td>- Please clean up after yourself when using th...</td>\n",
              "      <td>41662/AL</td>\n",
              "    </tr>\n",
              "    <tr>\n",
              "      <th>9</th>\n",
              "      <td>Cozy Clean Guest Room - Family Apt</td>\n",
              "      <td>unconfirmed</td>\n",
              "      <td>Carl</td>\n",
              "      <td>Manhattan</td>\n",
              "      <td>Upper West Side</td>\n",
              "      <td>40.80178</td>\n",
              "      <td>-73.96723</td>\n",
              "      <td>False</td>\n",
              "      <td>strict</td>\n",
              "      <td>Private room</td>\n",
              "      <td>...</td>\n",
              "      <td>58.0</td>\n",
              "      <td>2.0</td>\n",
              "      <td>118.0</td>\n",
              "      <td>7/21/2017</td>\n",
              "      <td>0.99</td>\n",
              "      <td>5.0</td>\n",
              "      <td>1.0</td>\n",
              "      <td>375.0</td>\n",
              "      <td>NO SMOKING OR PETS ANYWHERE ON THE PROPERTY 1....</td>\n",
              "      <td>41662/AL</td>\n",
              "    </tr>\n",
              "    <tr>\n",
              "      <th>10</th>\n",
              "      <td>Cute &amp; Cozy Lower East Side 1 bdrm</td>\n",
              "      <td>verified</td>\n",
              "      <td>Miranda</td>\n",
              "      <td>Manhattan</td>\n",
              "      <td>Chinatown</td>\n",
              "      <td>40.71344</td>\n",
              "      <td>-73.99037</td>\n",
              "      <td>False</td>\n",
              "      <td>flexible</td>\n",
              "      <td>Entire home/apt</td>\n",
              "      <td>...</td>\n",
              "      <td>64.0</td>\n",
              "      <td>1.0</td>\n",
              "      <td>160.0</td>\n",
              "      <td>6/9/2019</td>\n",
              "      <td>1.33</td>\n",
              "      <td>3.0</td>\n",
              "      <td>4.0</td>\n",
              "      <td>1.0</td>\n",
              "      <td>#NAME?</td>\n",
              "      <td>41662/AL</td>\n",
              "    </tr>\n",
              "    <tr>\n",
              "      <th>...</th>\n",
              "      <td>...</td>\n",
              "      <td>...</td>\n",
              "      <td>...</td>\n",
              "      <td>...</td>\n",
              "      <td>...</td>\n",
              "      <td>...</td>\n",
              "      <td>...</td>\n",
              "      <td>...</td>\n",
              "      <td>...</td>\n",
              "      <td>...</td>\n",
              "      <td>...</td>\n",
              "      <td>...</td>\n",
              "      <td>...</td>\n",
              "      <td>...</td>\n",
              "      <td>...</td>\n",
              "      <td>...</td>\n",
              "      <td>...</td>\n",
              "      <td>...</td>\n",
              "      <td>...</td>\n",
              "      <td>...</td>\n",
              "      <td>...</td>\n",
              "    </tr>\n",
              "    <tr>\n",
              "      <th>102053</th>\n",
              "      <td>Cozy bright room near Prospect Park</td>\n",
              "      <td>unconfirmed</td>\n",
              "      <td>Mariam</td>\n",
              "      <td>Brooklyn</td>\n",
              "      <td>Flatbush</td>\n",
              "      <td>40.64945</td>\n",
              "      <td>-73.96108</td>\n",
              "      <td>True</td>\n",
              "      <td>moderate</td>\n",
              "      <td>Private room</td>\n",
              "      <td>...</td>\n",
              "      <td>41.0</td>\n",
              "      <td>7.0</td>\n",
              "      <td>12.0</td>\n",
              "      <td>3/27/2019</td>\n",
              "      <td>0.44</td>\n",
              "      <td>5.0</td>\n",
              "      <td>1.0</td>\n",
              "      <td>0.0</td>\n",
              "      <td>Shoes off Clean After yourself Turn Lights and...</td>\n",
              "      <td>41662/AL</td>\n",
              "    </tr>\n",
              "    <tr>\n",
              "      <th>102054</th>\n",
              "      <td>Private Bedroom with Amazing Rooftop View</td>\n",
              "      <td>verified</td>\n",
              "      <td>Trey</td>\n",
              "      <td>Brooklyn</td>\n",
              "      <td>Bushwick</td>\n",
              "      <td>40.69872</td>\n",
              "      <td>-73.92718</td>\n",
              "      <td>False</td>\n",
              "      <td>flexible</td>\n",
              "      <td>Private room</td>\n",
              "      <td>...</td>\n",
              "      <td>41.0</td>\n",
              "      <td>1.0</td>\n",
              "      <td>19.0</td>\n",
              "      <td>8/31/2017</td>\n",
              "      <td>0.72</td>\n",
              "      <td>3.0</td>\n",
              "      <td>2.0</td>\n",
              "      <td>0.0</td>\n",
              "      <td>#NAME?</td>\n",
              "      <td>41662/AL</td>\n",
              "    </tr>\n",
              "    <tr>\n",
              "      <th>102055</th>\n",
              "      <td>Pretty Brooklyn One-Bedroom for 2 to 4 people</td>\n",
              "      <td>verified</td>\n",
              "      <td>Michael</td>\n",
              "      <td>Brooklyn</td>\n",
              "      <td>Bedford-Stuyvesant</td>\n",
              "      <td>40.67810</td>\n",
              "      <td>-73.90822</td>\n",
              "      <td>True</td>\n",
              "      <td>moderate</td>\n",
              "      <td>Entire home/apt</td>\n",
              "      <td>...</td>\n",
              "      <td>41.0</td>\n",
              "      <td>2.0</td>\n",
              "      <td>50.0</td>\n",
              "      <td>6/26/2019</td>\n",
              "      <td>3.12</td>\n",
              "      <td>4.0</td>\n",
              "      <td>2.0</td>\n",
              "      <td>235.0</td>\n",
              "      <td>* Check out: 10am * We made an effort to keep ...</td>\n",
              "      <td>41662/AL</td>\n",
              "    </tr>\n",
              "    <tr>\n",
              "      <th>102056</th>\n",
              "      <td>Room &amp; private bathroom in historic Harlem</td>\n",
              "      <td>unconfirmed</td>\n",
              "      <td>Shireen</td>\n",
              "      <td>Manhattan</td>\n",
              "      <td>Harlem</td>\n",
              "      <td>40.81248</td>\n",
              "      <td>-73.94317</td>\n",
              "      <td>True</td>\n",
              "      <td>strict</td>\n",
              "      <td>Private room</td>\n",
              "      <td>...</td>\n",
              "      <td>41.0</td>\n",
              "      <td>2.0</td>\n",
              "      <td>0.0</td>\n",
              "      <td>6/23/2019</td>\n",
              "      <td>0.74</td>\n",
              "      <td>1.0</td>\n",
              "      <td>1.0</td>\n",
              "      <td>0.0</td>\n",
              "      <td>Each of us is working and/or going to school a...</td>\n",
              "      <td>41662/AL</td>\n",
              "    </tr>\n",
              "    <tr>\n",
              "      <th>102057</th>\n",
              "      <td>Rosalee Stewart</td>\n",
              "      <td>verified</td>\n",
              "      <td>Stanley</td>\n",
              "      <td>Manhattan</td>\n",
              "      <td>Harlem</td>\n",
              "      <td>40.81315</td>\n",
              "      <td>-73.94747</td>\n",
              "      <td>False</td>\n",
              "      <td>flexible</td>\n",
              "      <td>Entire home/apt</td>\n",
              "      <td>...</td>\n",
              "      <td>41.0</td>\n",
              "      <td>4.0</td>\n",
              "      <td>22.0</td>\n",
              "      <td>6/15/2019</td>\n",
              "      <td>0.85</td>\n",
              "      <td>4.0</td>\n",
              "      <td>1.0</td>\n",
              "      <td>238.0</td>\n",
              "      <td>Please remember that this is a residential bui...</td>\n",
              "      <td>41662/AL</td>\n",
              "    </tr>\n",
              "  </tbody>\n",
              "</table>\n",
              "<p>81297 rows × 22 columns</p>\n",
              "</div>"
            ],
            "text/plain": [
              "                                                 name host_identity_verified  \\\n",
              "2                 THE VILLAGE OF HARLEM....NEW YORK !            unconfirmed   \n",
              "5           Large Cozy 1 BR Apartment In Midtown East               verified   \n",
              "8                     Large Furnished Room Near B'way               verified   \n",
              "9                  Cozy Clean Guest Room - Family Apt            unconfirmed   \n",
              "10                 Cute & Cozy Lower East Side 1 bdrm               verified   \n",
              "...                                               ...                    ...   \n",
              "102053            Cozy bright room near Prospect Park            unconfirmed   \n",
              "102054      Private Bedroom with Amazing Rooftop View               verified   \n",
              "102055  Pretty Brooklyn One-Bedroom for 2 to 4 people               verified   \n",
              "102056     Room & private bathroom in historic Harlem            unconfirmed   \n",
              "102057                                Rosalee Stewart               verified   \n",
              "\n",
              "       host_name neighbourhood_group       neighbourhood       lat      long  \\\n",
              "2          Elise           Manhattan              Harlem  40.80902 -73.94190   \n",
              "5       Michelle           Manhattan         Murray Hill  40.74767 -73.97500   \n",
              "8         Evelyn           Manhattan      Hell's Kitchen  40.76489 -73.98493   \n",
              "9           Carl           Manhattan     Upper West Side  40.80178 -73.96723   \n",
              "10       Miranda           Manhattan           Chinatown  40.71344 -73.99037   \n",
              "...          ...                 ...                 ...       ...       ...   \n",
              "102053    Mariam            Brooklyn            Flatbush  40.64945 -73.96108   \n",
              "102054      Trey            Brooklyn            Bushwick  40.69872 -73.92718   \n",
              "102055   Michael            Brooklyn  Bedford-Stuyvesant  40.67810 -73.90822   \n",
              "102056   Shireen           Manhattan              Harlem  40.81248 -73.94317   \n",
              "102057   Stanley           Manhattan              Harlem  40.81315 -73.94747   \n",
              "\n",
              "        instant_bookable cancellation_policy        room_type  ...  \\\n",
              "2                   True            flexible     Private room  ...   \n",
              "5                   True            flexible  Entire home/apt  ...   \n",
              "8                   True              strict     Private room  ...   \n",
              "9                  False              strict     Private room  ...   \n",
              "10                 False            flexible  Entire home/apt  ...   \n",
              "...                  ...                 ...              ...  ...   \n",
              "102053              True            moderate     Private room  ...   \n",
              "102054             False            flexible     Private room  ...   \n",
              "102055              True            moderate  Entire home/apt  ...   \n",
              "102056              True              strict     Private room  ...   \n",
              "102057             False            flexible  Entire home/apt  ...   \n",
              "\n",
              "        service_fee  minimum_nights  number_of_reviews  last_review  \\\n",
              "2             124.0             3.0                0.0    6/23/2019   \n",
              "5             115.0             3.0               74.0    6/22/2019   \n",
              "8             204.0             2.0              430.0    6/24/2019   \n",
              "9              58.0             2.0              118.0    7/21/2017   \n",
              "10             64.0             1.0              160.0     6/9/2019   \n",
              "...             ...             ...                ...          ...   \n",
              "102053         41.0             7.0               12.0    3/27/2019   \n",
              "102054         41.0             1.0               19.0    8/31/2017   \n",
              "102055         41.0             2.0               50.0    6/26/2019   \n",
              "102056         41.0             2.0                0.0    6/23/2019   \n",
              "102057         41.0             4.0               22.0    6/15/2019   \n",
              "\n",
              "        reviews_per_month review_rate_number  calculated_host_listings_count  \\\n",
              "2                    0.74                5.0                             1.0   \n",
              "5                    0.59                3.0                             1.0   \n",
              "8                    3.47                3.0                             1.0   \n",
              "9                    0.99                5.0                             1.0   \n",
              "10                   1.33                3.0                             4.0   \n",
              "...                   ...                ...                             ...   \n",
              "102053               0.44                5.0                             1.0   \n",
              "102054               0.72                3.0                             2.0   \n",
              "102055               3.12                4.0                             2.0   \n",
              "102056               0.74                1.0                             1.0   \n",
              "102057               0.85                4.0                             1.0   \n",
              "\n",
              "        days_booked                                        house_rules  \\\n",
              "2             352.0  I encourage you to use my kitchen, cooking and...   \n",
              "5             374.0                  No smoking, please, and no drugs.   \n",
              "8             180.0  - Please clean up after yourself when using th...   \n",
              "9             375.0  NO SMOKING OR PETS ANYWHERE ON THE PROPERTY 1....   \n",
              "10              1.0                                             #NAME?   \n",
              "...             ...                                                ...   \n",
              "102053          0.0  Shoes off Clean After yourself Turn Lights and...   \n",
              "102054          0.0                                             #NAME?   \n",
              "102055        235.0  * Check out: 10am * We made an effort to keep ...   \n",
              "102056          0.0  Each of us is working and/or going to school a...   \n",
              "102057        238.0  Please remember that this is a residential bui...   \n",
              "\n",
              "         license  \n",
              "2       41662/AL  \n",
              "5       41662/AL  \n",
              "8       41662/AL  \n",
              "9       41662/AL  \n",
              "10      41662/AL  \n",
              "...          ...  \n",
              "102053  41662/AL  \n",
              "102054  41662/AL  \n",
              "102055  41662/AL  \n",
              "102056  41662/AL  \n",
              "102057  41662/AL  \n",
              "\n",
              "[81297 rows x 22 columns]"
            ]
          },
          "execution_count": 37,
          "metadata": {},
          "output_type": "execute_result"
        }
      ],
      "source": [
        "# Filtramos los alquileres con una duración de menos de 10 días\n",
        "alquileres_corto_plazo = airbnb[airbnb['minimum_nights'] < 10]\n",
        "alquileres_corto_plazo"
      ]
    },
    {
      "cell_type": "code",
      "execution_count": 38,
      "metadata": {},
      "outputs": [
        {
          "data": {
            "text/plain": [
              "neighbourhood_group\n",
              "Brooklyn         34343\n",
              "Manhattan        32788\n",
              "Queens           10970\n",
              "Bronx             2367\n",
              "Staten Island      829\n",
              "Name: count, dtype: int64"
            ]
          },
          "execution_count": 38,
          "metadata": {},
          "output_type": "execute_result"
        }
      ],
      "source": [
        "# Calculamos la cantidad de alquileres a corto plazo por barrio\n",
        "conteo_barrios = alquileres_corto_plazo['neighbourhood_group'].value_counts()\n",
        "conteo_barrios"
      ]
    },
    {
      "cell_type": "code",
      "execution_count": 39,
      "metadata": {},
      "outputs": [
        {
          "name": "stderr",
          "output_type": "stream",
          "text": [
            "C:\\Users\\Yeyson\\AppData\\Local\\Temp\\ipykernel_9432\\2537163068.py:7: FutureWarning: \n",
            "\n",
            "Passing `palette` without assigning `hue` is deprecated and will be removed in v0.14.0. Assign the `x` variable to `hue` and set `legend=False` for the same effect.\n",
            "\n",
            "  sns.barplot(x=conteo_barrios.index, y=conteo_barrios.values, palette='viridis')\n"
          ]
        },
        {
          "data": {
            "image/png": "[encoded data removed]",
            "text/plain": [
              "<Figure size 1000x600 with 1 Axes>"
            ]
          },
          "metadata": {},
          "output_type": "display_data"
        }
      ],
      "source": [
        "import pandas as pd\n",
        "import seaborn as sns\n",
        "import matplotlib.pyplot as plt\n",
        "\n",
        "# Creamos un gráfico de barras\n",
        "plt.figure(figsize=(10, 6))\n",
        "sns.barplot(x=conteo_barrios.index, y=conteo_barrios.values, palette='viridis')\n",
        "plt.xlabel('Barrios')\n",
        "plt.ylabel('Cantidad de alquileres corto plazo')\n",
        "plt.title('Alquileres a corto plazo (menos de 10 días) por barrio')\n",
        "plt.xticks(rotation=45, ha='right')\n",
        "plt.tight_layout()\n",
        "\n",
        "# Muestra el gráfico\n",
        "plt.show()\n",
        "\n"
      ]
    },
    {
      "cell_type": "markdown",
      "metadata": {},
      "source": [
        "<span style=\"color:Lightgreen\">5. Enumere los precios con respecto al tipo de habitación utilizando un gráfico de barras y exponga también sus inferencias.</span>"
      ]
    },
    {
      "cell_type": "code",
      "execution_count": 40,
      "metadata": {},
      "outputs": [
        {
          "data": {
            "text/plain": [
              "room_type\n",
              "Entire home/apt    624.227711\n",
              "Hotel room         666.391304\n",
              "Private room       623.842516\n",
              "Shared room        630.912517\n",
              "Name: price, dtype: float64"
            ]
          },
          "execution_count": 40,
          "metadata": {},
          "output_type": "execute_result"
        }
      ],
      "source": [
        "# Calculamos el precio promedio por tipo de habitación\n",
        "precio_promedio_por_tipo = airbnb.groupby('room_type')['price'].mean()\n",
        "precio_promedio_por_tipo"
      ]
    },
    {
      "cell_type": "code",
      "execution_count": 41,
      "metadata": {},
      "outputs": [
        {
          "data": {
            "text/plain": [
              "room_type\n",
              "Hotel room         666.391304\n",
              "Shared room        630.912517\n",
              "Entire home/apt    624.227711\n",
              "Private room       623.842516\n",
              "Name: price, dtype: float64"
            ]
          },
          "execution_count": 41,
          "metadata": {},
          "output_type": "execute_result"
        }
      ],
      "source": [
        "# Ordenamos los tipos de habitación por precio promedio (descendente)\n",
        "precio_promedio_por_tipo = precio_promedio_por_tipo.sort_values(ascending=False)\n",
        "precio_promedio_por_tipo"
      ]
    },
    {
      "cell_type": "code",
      "execution_count": 42,
      "metadata": {},
      "outputs": [
        {
          "name": "stderr",
          "output_type": "stream",
          "text": [
            "C:\\Users\\Yeyson\\AppData\\Local\\Temp\\ipykernel_9432\\3109623998.py:7: FutureWarning: \n",
            "\n",
            "Passing `palette` without assigning `hue` is deprecated and will be removed in v0.14.0. Assign the `x` variable to `hue` and set `legend=False` for the same effect.\n",
            "\n",
            "  sns.barplot(x=precio_promedio_por_tipo.index, y=precio_promedio_por_tipo.values, palette='Set1')\n"
          ]
        },
        {
          "data": {
            "image/png": "[encoded data removed]",
            "text/plain": [
              "<Figure size 1000x600 with 1 Axes>"
            ]
          },
          "metadata": {},
          "output_type": "display_data"
        }
      ],
      "source": [
        "import pandas as pd\n",
        "import seaborn as sns\n",
        "import matplotlib.pyplot as plt\n",
        "\n",
        "# Crea un gráfico de barras\n",
        "plt.figure(figsize=(10, 6))\n",
        "sns.barplot(x=precio_promedio_por_tipo.index, y=precio_promedio_por_tipo.values, palette='Set1')\n",
        "plt.xlabel('Tipo de habitación')\n",
        "plt.ylabel('Precio promedio')\n",
        "plt.title('Precios por tipo de habitación en Airbnb (orden descendente)')\n",
        "plt.xticks(rotation=45, ha='right')\n",
        "plt.tight_layout()\n",
        "\n",
        "# Muestra el gráfico\n",
        "plt.show()"
      ]
    },
    {
      "cell_type": "markdown",
      "metadata": {},
      "source": [
        "**Habitaciones privadas (Private rooms):**\n",
        "\n",
        "    Las habitaciones privadas tienen el precio promedio más bajo en comparación con otros tipos de alojamiento.\n",
        "    Esto podría deberse a que las habitaciones privadas suelen ser más asequibles y ofrecen una opción económica para los viajeros.\n",
        "\n",
        "**Habitaciones compartidas (Shared rooms):**\n",
        "\n",
        "    Las habitaciones compartidas también tienen un precio promedio bajo, pero ligeramente más alto que las habitaciones privadas.\n",
        "    Estas habitaciones son ideales para viajeros solos o aquellos que buscan una experiencia de alojamiento más social o en grupo.\n",
        "    \n",
        "**Lugares completos (Entire place):**\n",
        "\n",
        "    Los lugares completos (como apartamentos o casas enteras) tienen el precio promedio más alto.\n",
        "    Esto es comprensible, ya que alquilar un espacio completo proporciona más privacidad y comodidad."
      ]
    },
    {
      "cell_type": "markdown",
      "metadata": {},
      "source": [
        "<span style=\"color:Lightgreen\">6. Cree un gráfico circular que muestre la distribución de los días reservados para cada grupo de barrios.</span>"
      ]
    },
    {
      "cell_type": "code",
      "execution_count": 43,
      "metadata": {},
      "outputs": [
        {
          "data": {
            "text/plain": [
              "neighbourhood_group\n",
              "Bronx             468067.0\n",
              "Brooklyn         5279440.0\n",
              "Manhattan        6049571.0\n",
              "Queens           2084887.0\n",
              "Staten Island     180310.0\n",
              "Name: days_booked, dtype: float64"
            ]
          },
          "execution_count": 43,
          "metadata": {},
          "output_type": "execute_result"
        }
      ],
      "source": [
        "# Agrupa los datos por barrio y suma los días reservados\n",
        "dias_por_barrio = airbnb.groupby('neighbourhood_group')['days_booked'].sum()\n",
        "dias_por_barrio"
      ]
    },
    {
      "cell_type": "code",
      "execution_count": 44,
      "metadata": {},
      "outputs": [
        {
          "data": {
            "text/plain": [
              "14062275.0"
            ]
          },
          "execution_count": 44,
          "metadata": {},
          "output_type": "execute_result"
        }
      ],
      "source": [
        "total_dias = dias_por_barrio.sum()\n",
        "total_dias"
      ]
    },
    {
      "cell_type": "code",
      "execution_count": 45,
      "metadata": {},
      "outputs": [
        {
          "data": {
            "text/plain": [
              "neighbourhood_group\n",
              "Bronx             3.328530\n",
              "Brooklyn         37.543285\n",
              "Manhattan        43.019860\n",
              "Queens           14.826100\n",
              "Staten Island     1.282225\n",
              "Name: days_booked, dtype: float64"
            ]
          },
          "execution_count": 45,
          "metadata": {},
          "output_type": "execute_result"
        }
      ],
      "source": [
        "porcentaje_por_barrio = (dias_por_barrio / total_dias ) * 100\n",
        "porcentaje_por_barrio"
      ]
    },
    {
      "cell_type": "code",
      "execution_count": 48,
      "metadata": {},
      "outputs": [
        {
          "data": {
            "image/png": "[encoded data removed]",
            "text/plain": [
              "<Figure size 800x400 with 1 Axes>"
            ]
          },
          "metadata": {},
          "output_type": "display_data"
        }
      ],
      "source": [
        "import pandas as pd\n",
        "import matplotlib.pyplot as plt\n",
        "\n",
        "# Crea una lista de colores personalizados\n",
        "colores = ['skyblue', 'salmon', 'lightgreen', 'gold', 'green']\n",
        "explode = (0, 0, 0.1, 0, 0)  # solo \"Saque\" el 3er valor (\"Manhatan\")\n",
        "# Crea un gráfico circular con los colores personalizados\n",
        "plt.figure(figsize=(8, 4))\n",
        "plt.pie(porcentaje_por_barrio,explode=explode,  labels=porcentaje_por_barrio.index, autopct='%1.f%%', startangle=150, colors=colores)\n",
        "plt.title('Distribución de días reservados por grupo de barrios')\n",
        "plt.axis('equal')  # Para que el gráfico sea un círculo perfecto\n",
        "\n",
        "# Muestra el gráfico\n",
        "plt.show()"
      ]
    },
    {
      "cell_type": "markdown",
      "id": "686IEH_tK86G",
      "metadata": {
        "id": "686IEH_tK86G"
      },
      "source": [
        "## Tarea 5b: Visualización de datos (Cualquier herramienta)\n",
        "\n",
        "* ¿El precio del servicio y el precio de la habitación tienen un impacto mutuo? Ilustre esta relación con un gráfico de dispersión e indique sus inferencias\n",
        "* Utilizando un gráfico lineal muestre en qué año tuvo lugar la máxima construcción de habitaciones.\n",
        "\n",
        "Si utiliza Python para este ejercicio, incluya el código en las celdas siguientes. Si utiliza cualquier otra herramienta, incluya capturas de pantalla de su trabajo."
      ]
    },
    {
      "cell_type": "markdown",
      "metadata": {},
      "source": [
        "<span style=\"color:Lightgreen\">1. ¿El precio del servicio y el precio de la habitación tienen un impacto mutuo? Ilustre esta relación con un gráfico de dispersión e indique sus inferencias</span>"
      ]
    },
    {
      "cell_type": "code",
      "execution_count": 51,
      "metadata": {},
      "outputs": [
        {
          "data": {
            "image/png": "[encoded data removed]",
            "text/plain": [
              "<Figure size 800x600 with 1 Axes>"
            ]
          },
          "metadata": {},
          "output_type": "display_data"
        }
      ],
      "source": [
        "import pandas as pd\n",
        "import seaborn as sns\n",
        "import matplotlib.pyplot as plt\n",
        "\n",
        "# Creamos un el gráfico de dispersión\n",
        "plt.figure(figsize=(8, 6))\n",
        "sns.scatterplot(data=airbnb, x='service_fee', y='price', hue='room_type', s=30)\n",
        "plt.xlabel('Precio del servicio')\n",
        "plt.ylabel('Precio de la habitación')\n",
        "plt.title('Relación entre precio del servicio y precio de la habitación en Airbnb')\n",
        "\n",
        "# Muestra el gráfico\n",
        "plt.show()\n"
      ]
    },
    {
      "cell_type": "code",
      "execution_count": 52,
      "metadata": {},
      "outputs": [
        {
          "name": "stdout",
          "output_type": "stream",
          "text": [
            "Coeficiente de correlación:  0.9939390863925024\n"
          ]
        }
      ],
      "source": [
        "# Verificamos la Correlación entre estas 2 variables \n",
        "# Veremos el índice de correlación\n",
        "\n",
        "correlation = airbnb['service_fee'].corr(airbnb['price'])\n",
        "print('Coeficiente de correlación: ', correlation)"
      ]
    },
    {
      "cell_type": "markdown",
      "metadata": {},
      "source": [
        "**INFERENCIAS**\n",
        "\n",
        "    Existe una relación positiva relativamente fuerte entre el Servicio y el Precio de la Habitación\n",
        "    Lo que significa que a medida que aumenta el precio del servicio, aumenta el precio de la habitación.\n",
        "    Existe algunos valores atípicos, como el tipo de habitación 'Hotel room' que tiene un precio más alto de servicio pero un precio más bajo para el precio de la habitación.\n"
      ]
    },
    {
      "cell_type": "markdown",
      "metadata": {},
      "source": [
        "<span style=\"color:Lightgreen\">2. Utilizando un gráfico lineal muestre en qué año tuvo lugar la máxima construcción de habitaciones.</span>"
      ]
    },
    {
      "cell_type": "code",
      "execution_count": 53,
      "metadata": {},
      "outputs": [
        {
          "data": {
            "text/plain": [
              "0         2020.0\n",
              "1         2007.0\n",
              "2         2005.0\n",
              "3         2005.0\n",
              "4         2009.0\n",
              "           ...  \n",
              "102053    2012.0\n",
              "102054    2012.0\n",
              "102055    2012.0\n",
              "102056    2012.0\n",
              "102057    2011.0\n",
              "Name: construction_year, Length: 99138, dtype: float64"
            ]
          },
          "execution_count": 53,
          "metadata": {},
          "output_type": "execute_result"
        }
      ],
      "source": [
        "# Revisamos la columna 'construction_year'\n",
        "airbnb['construction_year']"
      ]
    },
    {
      "cell_type": "code",
      "execution_count": 55,
      "metadata": {},
      "outputs": [
        {
          "data": {
            "text/plain": [
              "0        2020-01-01\n",
              "1        2007-01-01\n",
              "2        2005-01-01\n",
              "3        2005-01-01\n",
              "4        2009-01-01\n",
              "            ...    \n",
              "102053   2012-01-01\n",
              "102054   2012-01-01\n",
              "102055   2012-01-01\n",
              "102056   2012-01-01\n",
              "102057   2011-01-01\n",
              "Name: construction_year, Length: 99138, dtype: datetime64[ns]"
            ]
          },
          "execution_count": 55,
          "metadata": {},
          "output_type": "execute_result"
        }
      ],
      "source": [
        "# Cambiamos el formato de la columna para que sólo me muestre los años y quite el punto\n",
        "# Utilizamos la función \"pd.to_datetime()\" que convierte a formato fecha\n",
        "\n",
        "airbnb['construction_year'] = pd.to_datetime(airbnb['construction_year'], format='%Y')\n",
        "airbnb['construction_year']\n"
      ]
    },
    {
      "cell_type": "code",
      "execution_count": 56,
      "metadata": {},
      "outputs": [
        {
          "data": {
            "text/plain": [
              "construction_year\n",
              "2003-01-01    4966\n",
              "2004-01-01    4865\n",
              "2005-01-01    4949\n",
              "2006-01-01    5029\n",
              "2007-01-01    4940\n",
              "2008-01-01    5046\n",
              "2009-01-01    4999\n",
              "2010-01-01    4966\n",
              "2011-01-01    4887\n",
              "2012-01-01    5159\n",
              "2013-01-01    4855\n",
              "2014-01-01    5063\n",
              "2015-01-01    4928\n",
              "2016-01-01    4858\n",
              "2017-01-01    4911\n",
              "2018-01-01    4883\n",
              "2019-01-01    5004\n",
              "2020-01-01    5005\n",
              "2021-01-01    4866\n",
              "2022-01-01    4959\n",
              "Name: count, dtype: int64"
            ]
          },
          "execution_count": 56,
          "metadata": {},
          "output_type": "execute_result"
        }
      ],
      "source": [
        "# Realizamos un conteo de los años y los ordenamos ascendentemente de acuerdo al indice año \n",
        "lugares_por_año = airbnb['construction_year'].value_counts().sort_index()\n",
        "lugares_por_año"
      ]
    },
    {
      "cell_type": "code",
      "execution_count": 57,
      "metadata": {},
      "outputs": [
        {
          "data": {
            "text/plain": [
              "<Axes: xlabel='construction_year', ylabel='count'>"
            ]
          },
          "execution_count": 57,
          "metadata": {},
          "output_type": "execute_result"
        },
        {
          "data": {
            "image/png": "[encoded data removed]",
            "text/plain": [
              "<Figure size 640x480 with 1 Axes>"
            ]
          },
          "metadata": {},
          "output_type": "display_data"
        }
      ],
      "source": [
        "# Graficamos\n",
        "sns.lineplot(lugares_por_año)"
      ]
    },
    {
      "cell_type": "markdown",
      "metadata": {},
      "source": [
        "**Análisis**\n",
        "\n",
        "    Se puede apreciar en el gráfico que en el año 2012 es el que tuvo lugar la máxima construcción de habitaciones.\n",
        "    \n"
      ]
    },
    {
      "cell_type": "markdown",
      "id": "2Yc5AWtsK86H",
      "metadata": {
        "id": "2Yc5AWtsK86H"
      },
      "source": [
        "## Tarea 5c: Visualización de datos (Cualquier herramienta)\n",
        "\n",
        "* Con la ayuda de gráficos de caja ilustra lo siguiente\n",
        " * Efecto del número de tasa de revisión en el precio\n",
        " * Efecto de la identidad del host verificada en el precio\n",
        "\n",
        "Si utiliza Python para este ejercicio, por favor incluya el código en las celdas de abajo. Si utiliza cualquier otra herramienta, por favor incluya capturas de pantalla de su trabajo."
      ]
    },
    {
      "cell_type": "markdown",
      "metadata": {},
      "source": [
        "<span style=\"color:Lightgreen\">1. Efecto del número de tasa de revisión en el precio</span>\n"
      ]
    },
    {
      "cell_type": "code",
      "execution_count": 263,
      "id": "u7w_1H1sK86H",
      "metadata": {
        "id": "u7w_1H1sK86H"
      },
      "outputs": [
        {
          "data": {
            "text/plain": [
              "<Axes: xlabel='review_rate_number', ylabel='price'>"
            ]
          },
          "execution_count": 263,
          "metadata": {},
          "output_type": "execute_result"
        },
        {
          "data": {
            "image/png": "[encoded data removed]",
            "text/plain": [
              "<Figure size 640x480 with 1 Axes>"
            ]
          },
          "metadata": {},
          "output_type": "display_data"
        }
      ],
      "source": [
        "sns.boxplot(x='review_rate_number', y='price', data=airbnb)"
      ]
    },
    {
      "cell_type": "markdown",
      "metadata": {},
      "source": [
        "**Análisis**\n",
        "\n",
        "    El número de tasa de revisión (review_rate_number) se refiere a la calificación promedio que los huéspedes han dado a una propiedad en Airbnb.\n",
        "    Con respecto a la tasa de revisión en relación al precio Las medianas de la tasa de revisión se mantienen por un precio aproximado de 600 y los cuartiles son similares en todas las tasas."
      ]
    },
    {
      "cell_type": "markdown",
      "metadata": {},
      "source": [
        "<span style=\"color:Lightgreen\">2. Efecto de la identidad del host verificada en el precio.</span>\n"
      ]
    },
    {
      "cell_type": "code",
      "execution_count": 59,
      "metadata": {},
      "outputs": [
        {
          "data": {
            "text/plain": [
              "host_identity_verified\n",
              "unconfirmed               49762\n",
              "verified                  49376\n",
              "Name: count, dtype: int64"
            ]
          },
          "execution_count": 59,
          "metadata": {},
          "output_type": "execute_result"
        }
      ],
      "source": [
        "# Realizamos un coteo de los valores que existen en la columna host_identity_verified\n",
        "airbnb[['host_identity_verified']].value_counts()"
      ]
    },
    {
      "cell_type": "code",
      "execution_count": 60,
      "id": "NDIOsUSRK86I",
      "metadata": {
        "id": "NDIOsUSRK86I"
      },
      "outputs": [
        {
          "data": {
            "text/html": [
              "<div>\n",
              "<style scoped>\n",
              "    .dataframe tbody tr th:only-of-type {\n",
              "        vertical-align: middle;\n",
              "    }\n",
              "\n",
              "    .dataframe tbody tr th {\n",
              "        vertical-align: top;\n",
              "    }\n",
              "\n",
              "    .dataframe thead th {\n",
              "        text-align: right;\n",
              "    }\n",
              "</style>\n",
              "<table border=\"1\" class=\"dataframe\">\n",
              "  <thead>\n",
              "    <tr style=\"text-align: right;\">\n",
              "      <th></th>\n",
              "      <th>name</th>\n",
              "      <th>host_identity_verified</th>\n",
              "      <th>host_name</th>\n",
              "      <th>neighbourhood_group</th>\n",
              "      <th>neighbourhood</th>\n",
              "      <th>lat</th>\n",
              "      <th>long</th>\n",
              "      <th>instant_bookable</th>\n",
              "      <th>cancellation_policy</th>\n",
              "      <th>room_type</th>\n",
              "      <th>...</th>\n",
              "      <th>service_fee</th>\n",
              "      <th>minimum_nights</th>\n",
              "      <th>number_of_reviews</th>\n",
              "      <th>last_review</th>\n",
              "      <th>reviews_per_month</th>\n",
              "      <th>review_rate_number</th>\n",
              "      <th>calculated_host_listings_count</th>\n",
              "      <th>days_booked</th>\n",
              "      <th>house_rules</th>\n",
              "      <th>license</th>\n",
              "    </tr>\n",
              "  </thead>\n",
              "  <tbody>\n",
              "    <tr>\n",
              "      <th>0</th>\n",
              "      <td>Clean &amp; quiet apt home by the park</td>\n",
              "      <td>unconfirmed</td>\n",
              "      <td>Madaline</td>\n",
              "      <td>Brooklyn</td>\n",
              "      <td>Kensington</td>\n",
              "      <td>40.64749</td>\n",
              "      <td>-73.97237</td>\n",
              "      <td>False</td>\n",
              "      <td>strict</td>\n",
              "      <td>Private room</td>\n",
              "      <td>...</td>\n",
              "      <td>193.0</td>\n",
              "      <td>10.0</td>\n",
              "      <td>9.0</td>\n",
              "      <td>10/19/2021</td>\n",
              "      <td>0.21</td>\n",
              "      <td>4.0</td>\n",
              "      <td>6.0</td>\n",
              "      <td>286.0</td>\n",
              "      <td>Clean up and treat the home the way you'd like...</td>\n",
              "      <td>41662/AL</td>\n",
              "    </tr>\n",
              "    <tr>\n",
              "      <th>2</th>\n",
              "      <td>THE VILLAGE OF HARLEM....NEW YORK !</td>\n",
              "      <td>unconfirmed</td>\n",
              "      <td>Elise</td>\n",
              "      <td>Manhattan</td>\n",
              "      <td>Harlem</td>\n",
              "      <td>40.80902</td>\n",
              "      <td>-73.94190</td>\n",
              "      <td>True</td>\n",
              "      <td>flexible</td>\n",
              "      <td>Private room</td>\n",
              "      <td>...</td>\n",
              "      <td>124.0</td>\n",
              "      <td>3.0</td>\n",
              "      <td>0.0</td>\n",
              "      <td>6/23/2019</td>\n",
              "      <td>0.74</td>\n",
              "      <td>5.0</td>\n",
              "      <td>1.0</td>\n",
              "      <td>352.0</td>\n",
              "      <td>I encourage you to use my kitchen, cooking and...</td>\n",
              "      <td>41662/AL</td>\n",
              "    </tr>\n",
              "    <tr>\n",
              "      <th>3</th>\n",
              "      <td>Home away from home</td>\n",
              "      <td>unconfirmed</td>\n",
              "      <td>Garry</td>\n",
              "      <td>Brooklyn</td>\n",
              "      <td>Clinton Hill</td>\n",
              "      <td>40.68514</td>\n",
              "      <td>-73.95976</td>\n",
              "      <td>True</td>\n",
              "      <td>moderate</td>\n",
              "      <td>Entire home/apt</td>\n",
              "      <td>...</td>\n",
              "      <td>74.0</td>\n",
              "      <td>30.0</td>\n",
              "      <td>270.0</td>\n",
              "      <td>7/5/2019</td>\n",
              "      <td>4.64</td>\n",
              "      <td>4.0</td>\n",
              "      <td>1.0</td>\n",
              "      <td>322.0</td>\n",
              "      <td>#NAME?</td>\n",
              "      <td>41662/AL</td>\n",
              "    </tr>\n",
              "    <tr>\n",
              "      <th>6</th>\n",
              "      <td>BlissArtsSpace!</td>\n",
              "      <td>unconfirmed</td>\n",
              "      <td>Alberta</td>\n",
              "      <td>Brooklyn</td>\n",
              "      <td>Bedford-Stuyvesant</td>\n",
              "      <td>40.68688</td>\n",
              "      <td>-73.95596</td>\n",
              "      <td>False</td>\n",
              "      <td>moderate</td>\n",
              "      <td>Private room</td>\n",
              "      <td>...</td>\n",
              "      <td>14.0</td>\n",
              "      <td>45.0</td>\n",
              "      <td>49.0</td>\n",
              "      <td>10/5/2017</td>\n",
              "      <td>0.40</td>\n",
              "      <td>5.0</td>\n",
              "      <td>1.0</td>\n",
              "      <td>224.0</td>\n",
              "      <td>Please no shoes in the house so bring slippers...</td>\n",
              "      <td>41662/AL</td>\n",
              "    </tr>\n",
              "    <tr>\n",
              "      <th>7</th>\n",
              "      <td>BlissArtsSpace!</td>\n",
              "      <td>unconfirmed</td>\n",
              "      <td>Emma</td>\n",
              "      <td>Brooklyn</td>\n",
              "      <td>Bedford-Stuyvesant</td>\n",
              "      <td>40.68688</td>\n",
              "      <td>-73.95596</td>\n",
              "      <td>False</td>\n",
              "      <td>moderate</td>\n",
              "      <td>Private room</td>\n",
              "      <td>...</td>\n",
              "      <td>212.0</td>\n",
              "      <td>45.0</td>\n",
              "      <td>49.0</td>\n",
              "      <td>10/5/2017</td>\n",
              "      <td>0.40</td>\n",
              "      <td>5.0</td>\n",
              "      <td>1.0</td>\n",
              "      <td>219.0</td>\n",
              "      <td>House Guidelines for our BnB We are delighted ...</td>\n",
              "      <td>41662/AL</td>\n",
              "    </tr>\n",
              "    <tr>\n",
              "      <th>...</th>\n",
              "      <td>...</td>\n",
              "      <td>...</td>\n",
              "      <td>...</td>\n",
              "      <td>...</td>\n",
              "      <td>...</td>\n",
              "      <td>...</td>\n",
              "      <td>...</td>\n",
              "      <td>...</td>\n",
              "      <td>...</td>\n",
              "      <td>...</td>\n",
              "      <td>...</td>\n",
              "      <td>...</td>\n",
              "      <td>...</td>\n",
              "      <td>...</td>\n",
              "      <td>...</td>\n",
              "      <td>...</td>\n",
              "      <td>...</td>\n",
              "      <td>...</td>\n",
              "      <td>...</td>\n",
              "      <td>...</td>\n",
              "      <td>...</td>\n",
              "    </tr>\n",
              "    <tr>\n",
              "      <th>102047</th>\n",
              "      <td>Cozy Apartment on Bedford Ave, Brooklyn</td>\n",
              "      <td>unconfirmed</td>\n",
              "      <td>Michael</td>\n",
              "      <td>Brooklyn</td>\n",
              "      <td>Williamsburg</td>\n",
              "      <td>40.71284</td>\n",
              "      <td>-73.96284</td>\n",
              "      <td>False</td>\n",
              "      <td>moderate</td>\n",
              "      <td>Private room</td>\n",
              "      <td>...</td>\n",
              "      <td>41.0</td>\n",
              "      <td>7.0</td>\n",
              "      <td>15.0</td>\n",
              "      <td>1/1/2018</td>\n",
              "      <td>0.55</td>\n",
              "      <td>4.0</td>\n",
              "      <td>1.0</td>\n",
              "      <td>0.0</td>\n",
              "      <td>#NAME?</td>\n",
              "      <td>41662/AL</td>\n",
              "    </tr>\n",
              "    <tr>\n",
              "      <th>102050</th>\n",
              "      <td>Sunny Brownstone Studio in BedStuy Brooklyn</td>\n",
              "      <td>unconfirmed</td>\n",
              "      <td>Jamal</td>\n",
              "      <td>Brooklyn</td>\n",
              "      <td>Bedford-Stuyvesant</td>\n",
              "      <td>40.68221</td>\n",
              "      <td>-73.94618</td>\n",
              "      <td>False</td>\n",
              "      <td>moderate</td>\n",
              "      <td>Entire home/apt</td>\n",
              "      <td>...</td>\n",
              "      <td>41.0</td>\n",
              "      <td>2.0</td>\n",
              "      <td>104.0</td>\n",
              "      <td>6/12/2019</td>\n",
              "      <td>3.69</td>\n",
              "      <td>5.0</td>\n",
              "      <td>1.0</td>\n",
              "      <td>268.0</td>\n",
              "      <td>#NAME?</td>\n",
              "      <td>41662/AL</td>\n",
              "    </tr>\n",
              "    <tr>\n",
              "      <th>102052</th>\n",
              "      <td>☀️Private, cozy &amp; quiet room in Inwood Manhatt...</td>\n",
              "      <td>unconfirmed</td>\n",
              "      <td>Zhoe</td>\n",
              "      <td>Manhattan</td>\n",
              "      <td>Inwood</td>\n",
              "      <td>40.86857</td>\n",
              "      <td>-73.91577</td>\n",
              "      <td>True</td>\n",
              "      <td>flexible</td>\n",
              "      <td>Private room</td>\n",
              "      <td>...</td>\n",
              "      <td>41.0</td>\n",
              "      <td>4.0</td>\n",
              "      <td>95.0</td>\n",
              "      <td>7/1/2019</td>\n",
              "      <td>3.65</td>\n",
              "      <td>2.0</td>\n",
              "      <td>1.0</td>\n",
              "      <td>323.0</td>\n",
              "      <td>This place is about enjoying good times and th...</td>\n",
              "      <td>41662/AL</td>\n",
              "    </tr>\n",
              "    <tr>\n",
              "      <th>102053</th>\n",
              "      <td>Cozy bright room near Prospect Park</td>\n",
              "      <td>unconfirmed</td>\n",
              "      <td>Mariam</td>\n",
              "      <td>Brooklyn</td>\n",
              "      <td>Flatbush</td>\n",
              "      <td>40.64945</td>\n",
              "      <td>-73.96108</td>\n",
              "      <td>True</td>\n",
              "      <td>moderate</td>\n",
              "      <td>Private room</td>\n",
              "      <td>...</td>\n",
              "      <td>41.0</td>\n",
              "      <td>7.0</td>\n",
              "      <td>12.0</td>\n",
              "      <td>3/27/2019</td>\n",
              "      <td>0.44</td>\n",
              "      <td>5.0</td>\n",
              "      <td>1.0</td>\n",
              "      <td>0.0</td>\n",
              "      <td>Shoes off Clean After yourself Turn Lights and...</td>\n",
              "      <td>41662/AL</td>\n",
              "    </tr>\n",
              "    <tr>\n",
              "      <th>102056</th>\n",
              "      <td>Room &amp; private bathroom in historic Harlem</td>\n",
              "      <td>unconfirmed</td>\n",
              "      <td>Shireen</td>\n",
              "      <td>Manhattan</td>\n",
              "      <td>Harlem</td>\n",
              "      <td>40.81248</td>\n",
              "      <td>-73.94317</td>\n",
              "      <td>True</td>\n",
              "      <td>strict</td>\n",
              "      <td>Private room</td>\n",
              "      <td>...</td>\n",
              "      <td>41.0</td>\n",
              "      <td>2.0</td>\n",
              "      <td>0.0</td>\n",
              "      <td>6/23/2019</td>\n",
              "      <td>0.74</td>\n",
              "      <td>1.0</td>\n",
              "      <td>1.0</td>\n",
              "      <td>0.0</td>\n",
              "      <td>Each of us is working and/or going to school a...</td>\n",
              "      <td>41662/AL</td>\n",
              "    </tr>\n",
              "  </tbody>\n",
              "</table>\n",
              "<p>49762 rows × 22 columns</p>\n",
              "</div>"
            ],
            "text/plain": [
              "                                                     name  \\\n",
              "0                      Clean & quiet apt home by the park   \n",
              "2                     THE VILLAGE OF HARLEM....NEW YORK !   \n",
              "3                                     Home away from home   \n",
              "6                                         BlissArtsSpace!   \n",
              "7                                         BlissArtsSpace!   \n",
              "...                                                   ...   \n",
              "102047            Cozy Apartment on Bedford Ave, Brooklyn   \n",
              "102050        Sunny Brownstone Studio in BedStuy Brooklyn   \n",
              "102052  ☀️Private, cozy & quiet room in Inwood Manhatt...   \n",
              "102053                Cozy bright room near Prospect Park   \n",
              "102056         Room & private bathroom in historic Harlem   \n",
              "\n",
              "       host_identity_verified host_name neighbourhood_group  \\\n",
              "0                 unconfirmed  Madaline            Brooklyn   \n",
              "2                 unconfirmed     Elise           Manhattan   \n",
              "3                 unconfirmed     Garry            Brooklyn   \n",
              "6                 unconfirmed   Alberta            Brooklyn   \n",
              "7                 unconfirmed      Emma            Brooklyn   \n",
              "...                       ...       ...                 ...   \n",
              "102047            unconfirmed   Michael            Brooklyn   \n",
              "102050            unconfirmed     Jamal            Brooklyn   \n",
              "102052            unconfirmed      Zhoe           Manhattan   \n",
              "102053            unconfirmed    Mariam            Brooklyn   \n",
              "102056            unconfirmed   Shireen           Manhattan   \n",
              "\n",
              "             neighbourhood       lat      long  instant_bookable  \\\n",
              "0               Kensington  40.64749 -73.97237             False   \n",
              "2                   Harlem  40.80902 -73.94190              True   \n",
              "3             Clinton Hill  40.68514 -73.95976              True   \n",
              "6       Bedford-Stuyvesant  40.68688 -73.95596             False   \n",
              "7       Bedford-Stuyvesant  40.68688 -73.95596             False   \n",
              "...                    ...       ...       ...               ...   \n",
              "102047        Williamsburg  40.71284 -73.96284             False   \n",
              "102050  Bedford-Stuyvesant  40.68221 -73.94618             False   \n",
              "102052              Inwood  40.86857 -73.91577              True   \n",
              "102053            Flatbush  40.64945 -73.96108              True   \n",
              "102056              Harlem  40.81248 -73.94317              True   \n",
              "\n",
              "       cancellation_policy        room_type  ... service_fee  minimum_nights  \\\n",
              "0                   strict     Private room  ...       193.0            10.0   \n",
              "2                 flexible     Private room  ...       124.0             3.0   \n",
              "3                 moderate  Entire home/apt  ...        74.0            30.0   \n",
              "6                 moderate     Private room  ...        14.0            45.0   \n",
              "7                 moderate     Private room  ...       212.0            45.0   \n",
              "...                    ...              ...  ...         ...             ...   \n",
              "102047            moderate     Private room  ...        41.0             7.0   \n",
              "102050            moderate  Entire home/apt  ...        41.0             2.0   \n",
              "102052            flexible     Private room  ...        41.0             4.0   \n",
              "102053            moderate     Private room  ...        41.0             7.0   \n",
              "102056              strict     Private room  ...        41.0             2.0   \n",
              "\n",
              "        number_of_reviews  last_review  reviews_per_month review_rate_number  \\\n",
              "0                     9.0   10/19/2021               0.21                4.0   \n",
              "2                     0.0    6/23/2019               0.74                5.0   \n",
              "3                   270.0     7/5/2019               4.64                4.0   \n",
              "6                    49.0    10/5/2017               0.40                5.0   \n",
              "7                    49.0    10/5/2017               0.40                5.0   \n",
              "...                   ...          ...                ...                ...   \n",
              "102047               15.0     1/1/2018               0.55                4.0   \n",
              "102050              104.0    6/12/2019               3.69                5.0   \n",
              "102052               95.0     7/1/2019               3.65                2.0   \n",
              "102053               12.0    3/27/2019               0.44                5.0   \n",
              "102056                0.0    6/23/2019               0.74                1.0   \n",
              "\n",
              "        calculated_host_listings_count  days_booked  \\\n",
              "0                                  6.0        286.0   \n",
              "2                                  1.0        352.0   \n",
              "3                                  1.0        322.0   \n",
              "6                                  1.0        224.0   \n",
              "7                                  1.0        219.0   \n",
              "...                                ...          ...   \n",
              "102047                             1.0          0.0   \n",
              "102050                             1.0        268.0   \n",
              "102052                             1.0        323.0   \n",
              "102053                             1.0          0.0   \n",
              "102056                             1.0          0.0   \n",
              "\n",
              "                                              house_rules   license  \n",
              "0       Clean up and treat the home the way you'd like...  41662/AL  \n",
              "2       I encourage you to use my kitchen, cooking and...  41662/AL  \n",
              "3                                                  #NAME?  41662/AL  \n",
              "6       Please no shoes in the house so bring slippers...  41662/AL  \n",
              "7       House Guidelines for our BnB We are delighted ...  41662/AL  \n",
              "...                                                   ...       ...  \n",
              "102047                                             #NAME?  41662/AL  \n",
              "102050                                             #NAME?  41662/AL  \n",
              "102052  This place is about enjoying good times and th...  41662/AL  \n",
              "102053  Shoes off Clean After yourself Turn Lights and...  41662/AL  \n",
              "102056  Each of us is working and/or going to school a...  41662/AL  \n",
              "\n",
              "[49762 rows x 22 columns]"
            ]
          },
          "execution_count": 60,
          "metadata": {},
          "output_type": "execute_result"
        }
      ],
      "source": [
        "# Filtramos los datos Verificados\n",
        "verified =  airbnb[airbnb['host_identity_verified'] == 'verified']\n",
        "verified\n",
        "\n",
        "# Filtramos los datos No Verificados\n",
        "unconfirmed =  airbnb[airbnb['host_identity_verified'] == 'unconfirmed']\n",
        "unconfirmed"
      ]
    },
    {
      "cell_type": "code",
      "execution_count": 61,
      "id": "UM7P_KhFK86I",
      "metadata": {
        "id": "UM7P_KhFK86I"
      },
      "outputs": [
        {
          "data": {
            "text/plain": [
              "<Axes: xlabel='host_identity_verified', ylabel='price'>"
            ]
          },
          "execution_count": 61,
          "metadata": {},
          "output_type": "execute_result"
        },
        {
          "data": {
            "image/png": "[encoded data removed]",
            "text/plain": [
              "<Figure size 640x480 with 1 Axes>"
            ]
          },
          "metadata": {},
          "output_type": "display_data"
        }
      ],
      "source": [
        "# Mostramos la relación entre ambos, con un boxplot\n",
        "sns.boxplot(x='host_identity_verified', y='price', data=airbnb)"
      ]
    },
    {
      "cell_type": "markdown",
      "metadata": {},
      "source": [
        "**Análisis**\n",
        "\n",
        "    Igualmente la relación de 'host_identity_verified' y el 'precio', son similares para los datos verificados y los no verificados."
      ]
    }
  ],
  "metadata": {
    "colab": {
      "provenance": []
    },
    "kernelspec": {
      "display_name": "Python 3",
      "language": "python",
      "name": "python3"
    },
    "language_info": {
      "codemirror_mode": {
        "name": "ipython",
        "version": 3
      },
      "file_extension": ".py",
      "mimetype": "text/x-python",
      "name": "python",
      "nbconvert_exporter": "python",
      "pygments_lexer": "ipython3",
      "version": "3.12.0"
    },
    "nteract": {
      "version": "0.28.0"
    },
    "toc": {
      "base_numbering": 1,
      "nav_menu": {},
      "number_sections": false,
      "sideBar": true,
      "skip_h1_title": true,
      "title_cell": "Table of Contents",
      "title_sidebar": "Contents",
      "toc_cell": false,
      "toc_position": {},
      "toc_section_display": true,
      "toc_window_display": true
    },
    "vscode": {
      "interpreter": {
        "hash": "31f2aee4e71d21fbe5cf8b01ff0e069b9275f58929596ceb00d14d90e3e16cd6"
      }
    }
  },
  "nbformat": 4,
  "nbformat_minor": 5
}
